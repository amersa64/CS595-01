{
 "cells": [
  {
   "cell_type": "code",
   "execution_count": 1,
   "metadata": {},
   "outputs": [],
   "source": [
    "from sklearn.model_selection import train_test_split\n",
    "from nltk.stem.snowball import EnglishStemmer\n",
    "from sklearn.naive_bayes import MultinomialNB\n",
    "import numpy as np\n",
    "import pandas\n",
    "from sklearn import metrics\n",
    "from sklearn.feature_extraction.text import CountVectorizer\n",
    "import sys\n",
    "import nltk\n",
    "import re\n",
    "import progressbar"
   ]
  },
  {
   "cell_type": "markdown",
   "metadata": {},
   "source": [
    "# Load Original Dataset:"
   ]
  },
  {
   "cell_type": "code",
   "execution_count": null,
   "metadata": {
    "collapsed": true
   },
   "outputs": [],
   "source": [
    "data = pandas.read_csv('Chat_Text_Data.csv')\n",
    "data.drop_duplicates(inplace=True)"
   ]
  },
  {
   "cell_type": "code",
   "execution_count": null,
   "metadata": {},
   "outputs": [],
   "source": [
    "stemmer = EnglishStemmer()\n",
    "analyzer = CountVectorizer(preprocessor=lambda x: re.sub(r'(\\d[\\d\\.])+', '', x.lower()),\n",
    "                            stop_words='english',lowercase=True,ngram_range=(1,1),\n",
    "                            token_pattern=u'(?u)\\\\b\\\\w\\\\w+\\\\b',analyzer='word').build_analyzer()\n",
    "\n",
    "def stemmed_words(doc):\n",
    "    return (stemmer.stem(w) for w in analyzer(doc))\n",
    "vectorizer = CountVectorizer(analyzer=stemmed_words,min_df=0.001)\n",
    "res = vectorizer.fit_transform(data['Text'].values)"
   ]
  },
  {
   "cell_type": "code",
   "execution_count": null,
   "metadata": {
    "collapsed": true
   },
   "outputs": [],
   "source": [
    "df = pandas.DataFrame(res.toarray(),columns=vectorizer.get_feature_names(),dtype=float)\n",
    "df.drop_duplicates(inplace=True)\n",
    "df['rationale']=\"\"\n",
    "df['label']=0\n",
    "df['label'] = df['label'].astype('int')\n",
    "df.to_csv('unlabeld_training.csv',index=False)"
   ]
  },
  {
   "cell_type": "markdown",
   "metadata": {},
   "source": [
    "### code for merging old and new dataframes: (don't run)"
   ]
  },
  {
   "cell_type": "code",
   "execution_count": null,
   "metadata": {
    "collapsed": true
   },
   "outputs": [],
   "source": [
    "df_old = pandas.read_csv('main_train_clean.csv',index_col=False)\n",
    "df_new = df\n",
    "#get column names that are nonzero from a row in a dataframe\n",
    "def get_nonzero_cols(df,i):\n",
    "    col_names =[]\n",
    "    s = list(df.columns)\n",
    "    s.pop()\n",
    "    for col in s:\n",
    "        if df.iloc[i][col]==1:\n",
    "            col_names.append(col)\n",
    "    return col_names\n",
    "#check for matching row\n",
    "def check_row(row,col_names):\n",
    "    for col_name in col_names:\n",
    "        try:\n",
    "            meh = row[col_name]\n",
    "            if meh != 1:\n",
    "                return False\n",
    "        except:\n",
    "            pass\n",
    "    return True\n",
    "for i in range(df_old.shape[0]):\n",
    "    print(i)\n",
    "    for j in range(df_new.shape[0]):\n",
    "        if check_row(df_new.iloc[j],get_nonzero_cols(df_old,i)):\n",
    "            df_new.set_value(j,'rationale',df_old.iloc[i]['rationale'])\n",
    "            df_new.set_value(j,'label',df_old.iloc[i]['label'])\n",
    "            break"
   ]
  },
  {
   "cell_type": "markdown",
   "metadata": {},
   "source": [
    "## Label initial training and test set manually: (DON'T RUN)"
   ]
  },
  {
   "cell_type": "code",
   "execution_count": null,
   "metadata": {
    "collapsed": true
   },
   "outputs": [],
   "source": [
    "def label(df):\n",
    "    for i in range(df.shape[0]):\n",
    "        if i > 301:\n",
    "            break  \n",
    "        if df.iloc[i]['rationale']=='' :\n",
    "            print(data.iloc[i]['Text'])\n",
    "            word = input()\n",
    "            if word == 'exit':\n",
    "                break\n",
    "            label = input()\n",
    "            df.set_value(i,'label',label)\n",
    "            df.set_value(i,'rationale',word)\n",
    "    df.to_csv('labeled_instances_300.csv',index=False)"
   ]
  },
  {
   "cell_type": "markdown",
   "metadata": {},
   "source": [
    "### fix format of dataframe:"
   ]
  },
  {
   "cell_type": "code",
   "execution_count": null,
   "metadata": {
    "collapsed": true
   },
   "outputs": [],
   "source": [
    "df = pandas.read_csv('labeled_instances_300.csv',index_col=False,low_memory=False)\n",
    "df = pandas.DataFrame.astype(df,dtype=float,errors='ignore')\n",
    "df['label'] = df['label'].astype('int')\n",
    "df.drop_duplicates(inplace=True)\n",
    "df.fillna('',inplace=True)\n",
    "#df.to_csv('labeled_instances_300.csv',index=False)"
   ]
  },
  {
   "cell_type": "code",
   "execution_count": null,
   "metadata": {
    "collapsed": true
   },
   "outputs": [],
   "source": [
    "df_train=df[0:50]\n",
    "df_test=df[50:300]"
   ]
  },
  {
   "cell_type": "markdown",
   "metadata": {},
   "source": [
    "train_x,test_x,train_y,test_y = train_test_split(df.drop(['label'], axis =1),df['label'],random_state=42,test_size=0.33)"
   ]
  },
  {
   "cell_type": "code",
   "execution_count": null,
   "metadata": {},
   "outputs": [],
   "source": [
    "row = df_test.iloc[7]\n",
    "print(row.size)\n",
    "print(df_train.shape[0])\n",
    "df_train = df_train.append(row,ignore_index=True)\n",
    "print(df_train.shape[0])\n",
    "print(df_test.shape[0])\n",
    "df_test.drop(row,inplace=True)"
   ]
  },
  {
   "cell_type": "code",
   "execution_count": null,
   "metadata": {},
   "outputs": [],
   "source": [
    "clf = MultinomialNB()\n",
    "clf.fit(df_train.drop(['label','rationale'], axis =1),df_train['label'])\n",
    "lwor_acc =clf.score(df_test.drop(['label','rationale'], axis =1),df_test['label'])\n",
    "print(\"accuracy with Lw/oR is \", lwor_acc)"
   ]
  },
  {
   "cell_type": "code",
   "execution_count": 2,
   "metadata": {
    "collapsed": true
   },
   "outputs": [],
   "source": [
    "def demphsizer(df,i, rationale):\n",
    "    demphsizees = []\n",
    "    s = list(df.columns)\n",
    "    s.pop()\n",
    "    for col in s:\n",
    "        if df.iloc[i][col]==1 and not col==rationale:\n",
    "            demphsizees.append(col)\n",
    "    return demphsizees"
   ]
  },
  {
   "cell_type": "code",
   "execution_count": 3,
   "metadata": {
    "collapsed": true
   },
   "outputs": [],
   "source": [
    "def load_labeled_data():\n",
    "    df = pandas.read_csv('labeled_instances_300.csv',index_col=False)\n",
    "    df = pandas.DataFrame.astype(df,dtype=float,errors='ignore')\n",
    "    df['label'] = df['label'].astype('int')\n",
    "    df.drop_duplicates(inplace=True)\n",
    "    return df"
   ]
  },
  {
   "cell_type": "code",
   "execution_count": 4,
   "metadata": {
    "collapsed": true
   },
   "outputs": [],
   "source": [
    "def apply_rationale(df_train,stemmer):\n",
    "    bar = progressbar.ProgressBar(maxval=100, \\\n",
    "    widgets=[progressbar.Bar('=', '[', ']'), ' ', progressbar.Percentage()])\n",
    "    bar.start()\n",
    "    for i in range(df_train.shape[0]):\n",
    "        bar.update((i*100//df_train.shape[0]))\n",
    "        word = stemmer.stem(df_train.iloc[i]['rationale'])\n",
    "        for col_name in demphsizer(df_train,i, word):\n",
    "            df_train.set_value(i,col_name, 0.01)\n",
    "    bar.finish()"
   ]
  },
  {
   "cell_type": "code",
   "execution_count": null,
   "metadata": {},
   "outputs": [],
   "source": [
    "stemmer = EnglishStemmer()\n",
    "apply_rationale(df_train,stemmer)\n",
    "clf = MultinomialNB(alpha=0.5)\n",
    "clf.fit(df_train.drop(['label','rationale'], axis =1),df_train['label'])\n",
    "lwr_acc = clf.score(df_test.drop(['label','rationale'], axis =1),df_test['label'])\n",
    "print(\"accuracy with LwR is \", lwr_acc)"
   ]
  },
  {
   "cell_type": "code",
   "execution_count": 5,
   "metadata": {},
   "outputs": [],
   "source": [
    "def train_MutliNB(df_train,df_test):\n",
    "    clf = MultinomialNB()\n",
    "    clf.fit(df_train.drop(['label','rationale'], axis =1),df_train['label'])\n",
    "    lwr_acc = clf.score(df_test.drop(['label','rationale'], axis =1),df_test['label'].astype('int'))\n",
    "    print(\"current accuracy with LwR is \", lwr_acc)\n",
    "    return clf"
   ]
  },
  {
   "cell_type": "code",
   "execution_count": 6,
   "metadata": {
    "collapsed": true
   },
   "outputs": [],
   "source": [
    "def calculate_rationale(df, i,stemmer):\n",
    "    rationale = stemmer.stem(df.iloc[i]['rationale'])\n",
    "    for col_name in demphsizer(df,i, rationale):\n",
    "        df.set_value(i,col_name, 0.01)"
   ]
  },
  {
   "cell_type": "code",
   "execution_count": 7,
   "metadata": {
    "collapsed": true
   },
   "outputs": [],
   "source": [
    "def find_most_uncertain_instance(clf,df_train,df_test,data):\n",
    "    predicted_prob = clf.predict_proba(df_test.drop(['label','rationale'], axis =1))\n",
    "    clearPRE = np.abs(np.add(predicted_prob[:,1],-0.5))\n",
    "    index = np.argmin(clearPRE)\n",
    "    obj = data.iloc[index+df_train.shape[0]]['Text']\n",
    "    print(obj)\n",
    "    return index"
   ]
  },
  {
   "cell_type": "code",
   "execution_count": 12,
   "metadata": {
    "collapsed": true
   },
   "outputs": [],
   "source": [
    "def interactive_learning():\n",
    "    data = pandas.read_csv('Chat_Text_Data.csv')\n",
    "    data.drop_duplicates(inplace=True)\n",
    "    print(\"loading original data...\")\n",
    "    df = load_labeled_data()\n",
    "    print(\"loading labeled data...\")\n",
    "    df_train=df[0:50]\n",
    "    df_test=df[50:300]\n",
    "    print(\"applying rationale on training data...\")\n",
    "    stemmer = EnglishStemmer()\n",
    "    #apply_rationale(df_train,stemmer)\n",
    "    print(\"training a MultinomialNB classifier...\")\n",
    "    clf = train_MutliNB(df_train,df_test)\n",
    "    budget = 5\n",
    "    print(\"interactive learning started\")\n",
    "    print(\"if you want to quit at any time, enter label as \\'exit0\\'\")\n",
    "    while budget >0 :    \n",
    "        i = find_most_uncertain_instance(clf,df_train,df_test,data)\n",
    "        print(\"current budget is \", budget)\n",
    "        rationale = input()\n",
    "        if rationale == 'exit0':\n",
    "            print(\"goodbye, I am going to die.\")\n",
    "            break\n",
    "        label = input()\n",
    "        df_test.set_value(i,'label',label)\n",
    "        df_test.set_value(i,'rationale',rationale)\n",
    "        calculate_rationale(df_test, i,stemmer)\n",
    "        row = df_test.iloc[i]\n",
    "        df_train = df_train.append(row,ignore_index=True)\n",
    "        df_test.drop(i,axis=0,inplace=True)\n",
    "        clf = train_MutliNB(df_train,df_test)\n",
    "        budget-=1"
   ]
  },
  {
   "cell_type": "code",
   "execution_count": 13,
   "metadata": {},
   "outputs": [
    {
     "name": "stdout",
     "output_type": "stream",
     "text": [
      "loading original data...\n",
      "loading labeled data...\n",
      "applying rationale on training data...\n",
      "training a MultinomialNB classifier...\n",
      "current accuracy with LwR is  0.638554216867\n",
      "interactive learning started\n",
      "if you want to quit at any time, enter label as 'exit0'\n",
      "stupid lakers....\n",
      "current budget is  5\n",
      "stupid\n",
      "0\n"
     ]
    },
    {
     "name": "stderr",
     "output_type": "stream",
     "text": [
      "C:\\Users\\Amer\\Anaconda3\\lib\\site-packages\\ipykernel_launcher.py:30: SettingWithCopyWarning: \n",
      "A value is trying to be set on a copy of a slice from a DataFrame\n",
      "\n",
      "See the caveats in the documentation: http://pandas.pydata.org/pandas-docs/stable/indexing.html#indexing-view-versus-copy\n"
     ]
    },
    {
     "name": "stdout",
     "output_type": "stream",
     "text": [
      "current accuracy with LwR is  0.661290322581\n",
      "well i'm gonna go enjoy being in seattle.....\n",
      "current budget is  4\n",
      "enjoy\n",
      "1\n",
      "current accuracy with LwR is  0.68016194332\n",
      "Purdue Band sucks.\n",
      "current budget is  3\n",
      "sucks\n",
      "0\n",
      "current accuracy with LwR is  0.682926829268\n",
      "boston is great: ).\n",
      "current budget is  2\n",
      "great\n",
      "1\n",
      "current accuracy with LwR is  0.69387755102\n",
      "i love ucla!..\n",
      "current budget is  1\n",
      "love\n",
      "1\n",
      "current accuracy with LwR is  0.696721311475\n"
     ]
    }
   ],
   "source": [
    "interactive_learning()"
   ]
  },
  {
   "cell_type": "code",
   "execution_count": null,
   "metadata": {
    "collapsed": true
   },
   "outputs": [],
   "source": []
  }
 ],
 "metadata": {
  "kernelspec": {
   "display_name": "Python 3",
   "language": "python",
   "name": "python3"
  },
  "language_info": {
   "codemirror_mode": {
    "name": "ipython",
    "version": 3
   },
   "file_extension": ".py",
   "mimetype": "text/x-python",
   "name": "python",
   "nbconvert_exporter": "python",
   "pygments_lexer": "ipython3",
   "version": "3.6.3"
  }
 },
 "nbformat": 4,
 "nbformat_minor": 2
}
