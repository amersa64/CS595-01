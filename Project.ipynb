{
 "cells": [
  {
   "cell_type": "code",
   "execution_count": 18,
   "metadata": {
    "collapsed": true
   },
   "outputs": [],
   "source": [
    "from sklearn.model_selection import train_test_split\n",
    "from nltk.stem.snowball import EnglishStemmer\n",
    "from sklearn.naive_bayes import MultinomialNB\n",
    "import numpy as np\n",
    "import pandas\n",
    "from sklearn import metrics\n",
    "from sklearn.feature_extraction.text import CountVectorizer\n",
    "import sys\n",
    "import nltk\n",
    "import re\n",
    "import progressbar\n",
    "import matplotlib.pyplot as plt"
   ]
  },
  {
   "cell_type": "markdown",
   "metadata": {},
   "source": [
    "# Load Original Dataset:"
   ]
  },
  {
   "cell_type": "code",
   "execution_count": null,
   "metadata": {
    "collapsed": true
   },
   "outputs": [],
   "source": [
    "# data = pandas.read_csv('Chat_Text_Data.csv')\n",
    "# data.drop_duplicates(inplace=True)"
   ]
  },
  {
   "cell_type": "code",
   "execution_count": null,
   "metadata": {
    "collapsed": true
   },
   "outputs": [],
   "source": [
    "# stemmer = EnglishStemmer()\n",
    "# analyzer = CountVectorizer(preprocessor=lambda x: re.sub(r'(\\d[\\d\\.])+', '', x.lower()),\n",
    "#                             stop_words='english',lowercase=True,ngram_range=(1,1),\n",
    "#                             token_pattern=u'(?u)\\\\b\\\\w\\\\w+\\\\b',analyzer='word').build_analyzer()\n",
    "\n",
    "# def stemmed_words(doc):\n",
    "#     return (stemmer.stem(w) for w in analyzer(doc))\n",
    "# vectorizer = CountVectorizer(analyzer=stemmed_words,min_df=0.001)\n",
    "# res = vectorizer.fit_transform(data['Text'].values)"
   ]
  },
  {
   "cell_type": "code",
   "execution_count": null,
   "metadata": {
    "collapsed": true
   },
   "outputs": [],
   "source": [
    "# df = pandas.DataFrame(res.toarray(),columns=vectorizer.get_feature_names(),dtype=float)\n",
    "# df.drop_duplicates(inplace=True)\n",
    "# df['rationale']=\"\"\n",
    "# df['label']=0\n",
    "# df['label'] = df['label'].astype('int')\n",
    "# df.to_csv('unlabeld_training.csv',index=False)"
   ]
  },
  {
   "cell_type": "markdown",
   "metadata": {},
   "source": [
    "### code for merging old and new dataframes: (don't run)"
   ]
  },
  {
   "cell_type": "code",
   "execution_count": null,
   "metadata": {
    "collapsed": true
   },
   "outputs": [],
   "source": [
    "df_old = pandas.read_csv('main_train_clean.csv',index_col=False)\n",
    "df_new = df\n",
    "\n",
    "#check for matching row\n",
    "def check_row(row,col_names):\n",
    "    for col_name in col_names:\n",
    "        try:\n",
    "            meh = row[col_name]\n",
    "            if meh != 1:\n",
    "                return False\n",
    "        except:\n",
    "            pass\n",
    "    return True\n",
    "for i in range(df_old.shape[0]):\n",
    "    print(i)\n",
    "    for j in range(df_new.shape[0]):\n",
    "        if check_row(df_new.iloc[j],get_nonzero_cols(df_old,i)):\n",
    "            df_new.set_value(j,'rationale',df_old.iloc[i]['rationale'])\n",
    "            df_new.set_value(j,'label',df_old.iloc[i]['label'])\n",
    "            break"
   ]
  },
  {
   "cell_type": "markdown",
   "metadata": {},
   "source": [
    "## Label initial training and test set manually: (DON'T RUN)"
   ]
  },
  {
   "cell_type": "code",
   "execution_count": null,
   "metadata": {
    "collapsed": true
   },
   "outputs": [],
   "source": [
    "def label(df):\n",
    "    for i in range(df.shape[0]):\n",
    "        if i > 301:\n",
    "            break  \n",
    "        if df.iloc[i]['rationale']=='' :\n",
    "            print(data.iloc[i]['Text'])\n",
    "            word = input()\n",
    "            if word == 'exit':\n",
    "                break\n",
    "            label = input()\n",
    "            df.set_value(i,'label',label)\n",
    "            df.set_value(i,'rationale',word)\n",
    "    df.to_csv('labeled_instances_300.csv',index=False)"
   ]
  },
  {
   "cell_type": "markdown",
   "metadata": {},
   "source": [
    "### fix format of dataframe:"
   ]
  },
  {
   "cell_type": "code",
   "execution_count": 14,
   "metadata": {
    "collapsed": true
   },
   "outputs": [],
   "source": [
    "# df = pandas.read_csv('labeled_instances_300.csv',index_col=False,low_memory=False)\n",
    "# df = pandas.DataFrame.astype(df,dtype=float,errors='ignore')\n",
    "# df['label'] = df['label'].astype('int')\n",
    "# df.drop_duplicates(inplace=True)\n",
    "# df.fillna('',inplace=True)\n",
    "# #df.to_csv('labeled_instances_300.csv',index=False)"
   ]
  },
  {
   "cell_type": "code",
   "execution_count": null,
   "metadata": {
    "collapsed": true
   },
   "outputs": [],
   "source": [
    "# df_train=df[0:50]\n",
    "# df_test=df[50:300]"
   ]
  },
  {
   "cell_type": "code",
   "execution_count": 15,
   "metadata": {
    "collapsed": true
   },
   "outputs": [],
   "source": [
    "train_x,test_x,train_y,test_y = train_test_split(df.drop(['label'], axis =1),df['label'],random_state=42,test_size=0.33)"
   ]
  },
  {
   "cell_type": "code",
   "execution_count": null,
   "metadata": {
    "collapsed": true
   },
   "outputs": [],
   "source": [
    "# clf = MultinomialNB()\n",
    "# clf.fit(df_train.drop(['label','rationale'], axis =1),df_train['label'])\n",
    "# lwor_acc =clf.score(df_test.drop(['label','rationale'], axis =1),df_test['label'])\n",
    "# print(\"accuracy with Lw/oR is \", lwor_acc)"
   ]
  },
  {
   "cell_type": "code",
   "execution_count": null,
   "metadata": {
    "collapsed": true
   },
   "outputs": [],
   "source": [
    "# stemmer = EnglishStemmer()\n",
    "# apply_rationale(df_train,stemmer)\n",
    "# clf = MultinomialNB(alpha=0.5)\n",
    "# clf.fit(df_train.drop(['label','rationale'], axis =1),df_train['label'])\n",
    "# lwr_acc = clf.score(df_test.drop(['label','rationale'], axis =1),df_test['label'])\n",
    "# print(\"accuracy with LwR is \", lwr_acc)"
   ]
  },
  {
   "cell_type": "code",
   "execution_count": 68,
   "metadata": {
    "collapsed": true
   },
   "outputs": [],
   "source": [
    "#get column names that are nonzero from a row in a dataframe\n",
    "def get_nonzero_cols(df,i):\n",
    "    col_names =[]\n",
    "    s = list(df.columns)\n",
    "    s.pop()\n",
    "    for col in s:\n",
    "        if df.iloc[i][col]==1:\n",
    "            col_names.append(col)\n",
    "    return col_names"
   ]
  },
  {
   "cell_type": "code",
   "execution_count": 2,
   "metadata": {
    "collapsed": true
   },
   "outputs": [],
   "source": [
    "def demphsizer(df,i, rationale):\n",
    "    demphsizees = []\n",
    "    s = list(df.columns)\n",
    "    s.pop()\n",
    "    for col in s:\n",
    "        if df.iloc[i][col]==1 and not col==rationale:\n",
    "            demphsizees.append(col)\n",
    "    return demphsizees"
   ]
  },
  {
   "cell_type": "code",
   "execution_count": 20,
   "metadata": {},
   "outputs": [],
   "source": [
    "def load_labeled_data():\n",
    "    df = pandas.read_csv('labeled_instances_300.csv',index_col=False)\n",
    "    df = pandas.DataFrame.astype(df,dtype=float,errors='ignore')\n",
    "    df['label'] = df['label'].astype('int')\n",
    "    df.drop_duplicates(inplace=True)\n",
    "    for col_name in df.columns:\n",
    "        if df[col_name].sum()==0 and col_name!='rationale' and col_name!='label':\n",
    "            df.drop(col_name,axis=1,inplace=True)\n",
    "    return df"
   ]
  },
  {
   "cell_type": "code",
   "execution_count": 21,
   "metadata": {
    "collapsed": true
   },
   "outputs": [],
   "source": [
    "def apply_rationale(df_train,stemmer):\n",
    "    bar = progressbar.ProgressBar(maxval=100, \\\n",
    "    widgets=[progressbar.Bar('=', '[', ']'), ' ', progressbar.Percentage()])\n",
    "    bar.start()\n",
    "    for i in range(df_train.shape[0]):\n",
    "        bar.update((i*100//df_train.shape[0]))\n",
    "        word = stemmer.stem(df_train.iloc[i]['rationale'])\n",
    "        for col_name in demphsizer(df_train,i, word):\n",
    "            df_train.set_value(i,col_name, 0.01)\n",
    "    bar.finish()"
   ]
  },
  {
   "cell_type": "code",
   "execution_count": 22,
   "metadata": {
    "collapsed": true
   },
   "outputs": [],
   "source": [
    "def train_MutliNB(df_train,df_test,tracker):\n",
    "    clf = MultinomialNB()\n",
    "    clf.fit(df_train.drop(['label','rationale'], axis =1),df_train['label'])\n",
    "    lwr_acc = clf.score(df_test.drop(['label','rationale'], axis =1),df_test['label'].astype('int'))\n",
    "    tracker.append(lwr_acc)\n",
    "    print(\"current accuracy with LwR is \", lwr_acc)\n",
    "    return clf"
   ]
  },
  {
   "cell_type": "code",
   "execution_count": 23,
   "metadata": {
    "collapsed": true
   },
   "outputs": [],
   "source": [
    "def calculate_rationale(df, i,stemmer):\n",
    "    rationale = stemmer.stem(df.iloc[i]['rationale'])\n",
    "    for col_name in demphsizer(df,i, rationale):\n",
    "        df.set_value(i,col_name, 0.01)"
   ]
  },
  {
   "cell_type": "code",
   "execution_count": 24,
   "metadata": {
    "collapsed": true
   },
   "outputs": [],
   "source": [
    "def find_most_uncertain_instance(clf,df_test):\n",
    "    predicted_prob = clf.predict_proba(df_test.drop(['label','rationale'], axis =1))\n",
    "    clearPRE = np.abs(np.add(predicted_prob[:,1],-0.5))\n",
    "    index = np.argmin(clearPRE)\n",
    "    return index"
   ]
  },
  {
   "cell_type": "code",
   "execution_count": 25,
   "metadata": {
    "collapsed": true
   },
   "outputs": [],
   "source": [
    "def find_most_UNPC_instances(clf,df_test,df_train):\n",
    "    predicted_prob = clf.predict_proba(df_test.drop(['label','rationale'], axis =1))\n",
    "    clearPRE = np.abs(np.add(predicted_prob[:,1],-0.5))\n",
    "    indices = np.argsort(clearPRE)[:20]\n",
    "    results = choose_UNPC_instances(indices,df_train,df_test)\n",
    "    return results"
   ]
  },
  {
   "cell_type": "code",
   "execution_count": 26,
   "metadata": {
    "collapsed": true
   },
   "outputs": [],
   "source": [
    "def rationale_dictionary(df_train):\n",
    "    rationales = dict()\n",
    "    stemmer = EnglishStemmer()\n",
    "    for i in range(df_train.shape[0]):\n",
    "        rationales[stemmer.stem(df_train.iloc[i]['rationale'])]=df_train.iloc[i]['label']\n",
    "    return rationales"
   ]
  },
  {
   "cell_type": "code",
   "execution_count": 27,
   "metadata": {
    "collapsed": true
   },
   "outputs": [],
   "source": [
    "def choose_UNPC_instances(indices,df_train,df_test):\n",
    "    score_int = []\n",
    "    rationale_dict = rationale_dictionary(df_train)\n",
    "    for i in indices:\n",
    "        words = get_nonzero_cols(df_test,i)\n",
    "        pos_rationale = False\n",
    "        neg_rationale = False\n",
    "        for word in words:\n",
    "            try:\n",
    "                score = rationale_dict[word]\n",
    "                if score ==1:\n",
    "                    pos_rationale=True\n",
    "                else:\n",
    "                    neg_rationale=True \n",
    "            except:\n",
    "                pass\n",
    "        if pos_rationale and neg_rationale:\n",
    "            score_int.append((i,1))\n",
    "        else:\n",
    "            score_int.append((i,0))\n",
    "    score_int.sort(key=lambda x: x[1],reverse=True)\n",
    "    score_int= score_int[:5]\n",
    "    chosen = [x[0] for x in score_int]\n",
    "    return chosen"
   ]
  },
  {
   "cell_type": "code",
   "execution_count": 35,
   "metadata": {
    "collapsed": true
   },
   "outputs": [],
   "source": [
    "def interactive_learning_UNPC(demo = False,budget=10):\n",
    "    data = pandas.read_csv('Chat_Text_Data.csv')\n",
    "    data.drop_duplicates(inplace=True)\n",
    "    print(\"loading original data...\")\n",
    "    df = load_labeled_data()\n",
    "    print(\"loading labeled data...\")\n",
    "    train_x,test_x,train_y,test_y = train_test_split(df.drop(['label'], axis =1),df['label'],random_state=42,test_size=(0.97))\n",
    "    df_train=train_x.copy()\n",
    "    df_train['label']=train_y\n",
    "    df_test=test_x.copy()\n",
    "    df_test['label']=test_y\n",
    "    print(\"applying rationale on training data...\")\n",
    "    stemmer = EnglishStemmer()\n",
    "    #apply_rationale(df_train,stemmer)\n",
    "    print(\"training a MultinomialNB classifier...\")\n",
    "    tracker=[]\n",
    "    clf = train_MutliNB(df_train,df_test,tracker)\n",
    "    while budget >0 :    \n",
    "        #i = find_most_uncertain_instance(clf,df_test)\n",
    "        indices = find_most_UNPC_instances(clf,df_test,df_train)\n",
    "        for i in indices:\n",
    "            if demo:\n",
    "                print(\"interactive learning started\")\n",
    "                print(\"if you want to quit at any time, enter label as \\'exit0\\'\")\n",
    "                print(\"current budget is \", budget)\n",
    "                obj = data.iloc[i+df_train.shape[0]]['Text']\n",
    "                print(obj)\n",
    "                rationale = input(prompt=\"Rationale:\")\n",
    "                if rationale == 'exit0':\n",
    "                    print(\"goodbye, I am going to die.\")\n",
    "                    break\n",
    "                label = input(prompt=\"Label is 0 for - and 1 for +:\")\n",
    "                df_test.set_value(i,'label',label)\n",
    "                df_test.set_value(i,'rationale',rationale)\n",
    "            calculate_rationale(df_test, i,stemmer)\n",
    "            row = df_test.iloc[i]\n",
    "            df_train = df_train.append(row,ignore_index=True)\n",
    "            df_test.drop(i,axis=0,inplace=True)\n",
    "            budget-=1\n",
    "        clf = train_MutliNB(df_train,df_test,tracker)\n",
    "    print(\"We have exausted the budget\")\n",
    "    return tracker"
   ]
  },
  {
   "cell_type": "code",
   "execution_count": 36,
   "metadata": {
    "collapsed": true
   },
   "outputs": [],
   "source": [
    "def traditional_learning(budget=10):\n",
    "    data = pandas.read_csv('Chat_Text_Data.csv')\n",
    "    data.drop_duplicates(inplace=True)\n",
    "    print(\"loading original data...\")\n",
    "    df = load_labeled_data()\n",
    "    print(\"loading labeled data...\")\n",
    "    train_x,test_x,train_y,test_y = train_test_split(df.drop(['label'], axis =1),df['label'],random_state=42,test_size=(0.97))\n",
    "    df_train=train_x.copy()\n",
    "    df_train['label']=train_y\n",
    "    df_test=test_x.copy()\n",
    "    df_test['label']=test_y\n",
    "    print(\"applying rationale on training data...\")\n",
    "    stemmer = EnglishStemmer()\n",
    "    #apply_rationale(df_train,stemmer)\n",
    "    print(\"training a MultinomialNB classifier...\")\n",
    "    tracker=[]\n",
    "    clf = train_MutliNB(df_train,df_test,tracker)\n",
    "    idxs=[x for x in range(5)]\n",
    "    while budget >0:\n",
    "        for i in idxs:\n",
    "            row = df_test.iloc[i]\n",
    "            df_train = df_train.append(row,ignore_index=True)\n",
    "            df_test=df_test.iloc[1:]\n",
    "            budget-=1\n",
    "        clf = train_MutliNB(df_train,df_test,tracker)\n",
    "    print(\"We have exausted the budget\")\n",
    "    return tracker"
   ]
  },
  {
   "cell_type": "code",
   "execution_count": 37,
   "metadata": {
    "collapsed": true
   },
   "outputs": [],
   "source": [
    "def interactive_learning(demo = False,budget=10):\n",
    "    data = pandas.read_csv('Chat_Text_Data.csv')\n",
    "    data.drop_duplicates(inplace=True)\n",
    "    print(\"loading original data...\")\n",
    "    df = load_labeled_data()\n",
    "    print(\"loading labeled data...\")\n",
    "    train_x,test_x,train_y,test_y = train_test_split(df.drop(['label'], axis =1),df['label'],random_state=42,test_size=(0.97))\n",
    "    df_train=train_x.copy()\n",
    "    df_train['label']=train_y\n",
    "    df_test=test_x.copy()\n",
    "    df_test['label']=test_y\n",
    "    print(\"applying rationale on training data...\")\n",
    "    stemmer = EnglishStemmer()\n",
    "    print(\"training a MultinomialNB classifier...\")\n",
    "    tracker=[]\n",
    "    clf = train_MutliNB(df_train,df_test,tracker)\n",
    "    while budget >0 :\n",
    "        for x in range(5):\n",
    "            i = find_most_uncertain_instance(clf,df_test)\n",
    "            calculate_rationale(df_test, i,stemmer)\n",
    "            row = df_test.iloc[i]\n",
    "            df_train = df_train.append(row,ignore_index=True)\n",
    "            df_test.drop(i,axis=0,inplace=True)\n",
    "            budget-=1\n",
    "        clf = train_MutliNB(df_train,df_test,tracker)\n",
    "    print(\"We have exausted the budget\")\n",
    "    return tracker"
   ]
  },
  {
   "cell_type": "code",
   "execution_count": 42,
   "metadata": {
    "collapsed": true
   },
   "outputs": [],
   "source": [
    "def interactive_learning_NB(demo = False,budget=10):\n",
    "    data = pandas.read_csv('Chat_Text_Data.csv')\n",
    "    data.drop_duplicates(inplace=True)\n",
    "    print(\"loading original data...\")\n",
    "    df = load_labeled_data()\n",
    "    print(\"loading labeled data...\")\n",
    "    train_x,test_x,train_y,test_y = train_test_split(df.drop(['label'], axis =1),df['label'],random_state=42,test_size=(0.97))\n",
    "    df_train=train_x.copy()\n",
    "    df_train['label']=train_y\n",
    "    df_test=test_x.copy()\n",
    "    df_test['label']=test_y\n",
    "    print(\"applying rationale on training data...\")\n",
    "    stemmer = EnglishStemmer()\n",
    "    print(\"training a MultinomialNB classifier...\")\n",
    "    tracker=[]\n",
    "    clf = train_MutliNB(df_train,df_test,tracker)\n",
    "    while budget >0 :\n",
    "        i = find_most_uncertain_instance(clf,df_test)\n",
    "        calculate_rationale(df_test, i,stemmer)\n",
    "        row = df_test.iloc[i]\n",
    "        df_train = df_train.append(row,ignore_index=True)\n",
    "        df_test.drop(i,axis=0,inplace=True)\n",
    "        budget-=1\n",
    "        clf = train_MutliNB(df_train,df_test,tracker)\n",
    "    print(\"We have exausted the budget\")\n",
    "    return tracker"
   ]
  },
  {
   "cell_type": "code",
   "execution_count": 43,
   "metadata": {},
   "outputs": [
    {
     "name": "stdout",
     "output_type": "stream",
     "text": [
      "loading original data...\n",
      "loading labeled data...\n",
      "applying rationale on training data...\n",
      "training a MultinomialNB classifier...\n",
      "current accuracy with LwR is  0.714776632302\n",
      "current accuracy with LwR is  0.710344827586\n",
      "current accuracy with LwR is  0.643598615917\n",
      "current accuracy with LwR is  0.690972222222\n",
      "current accuracy with LwR is  0.700348432056\n",
      "current accuracy with LwR is  0.727272727273\n",
      "current accuracy with LwR is  0.733333333333\n",
      "current accuracy with LwR is  0.725352112676\n",
      "current accuracy with LwR is  0.69014084507\n",
      "current accuracy with LwR is  0.689045936396\n",
      "current accuracy with LwR is  0.698581560284\n",
      "current accuracy with LwR is  0.722419928826\n",
      "current accuracy with LwR is  0.742857142857\n",
      "current accuracy with LwR is  0.731182795699\n",
      "current accuracy with LwR is  0.712230215827\n",
      "current accuracy with LwR is  0.725631768953\n",
      "current accuracy with LwR is  0.731884057971\n",
      "current accuracy with LwR is  0.738181818182\n",
      "current accuracy with LwR is  0.737226277372\n",
      "current accuracy with LwR is  0.732600732601\n",
      "current accuracy with LwR is  0.731617647059\n",
      "current accuracy with LwR is  0.734317343173\n",
      "current accuracy with LwR is  0.733333333333\n",
      "current accuracy with LwR is  0.739776951673\n",
      "current accuracy with LwR is  0.738805970149\n",
      "current accuracy with LwR is  0.74531835206\n",
      "current accuracy with LwR is  0.751879699248\n",
      "current accuracy with LwR is  0.770676691729\n",
      "current accuracy with LwR is  0.777358490566\n",
      "current accuracy with LwR is  0.784090909091\n",
      "current accuracy with LwR is  0.787072243346\n",
      "current accuracy with LwR is  0.778625954198\n",
      "current accuracy with LwR is  0.785440613027\n",
      "current accuracy with LwR is  0.788461538462\n",
      "current accuracy with LwR is  0.795366795367\n",
      "current accuracy with LwR is  0.798449612403\n",
      "current accuracy with LwR is  0.809338521401\n",
      "current accuracy with LwR is  0.8125\n",
      "current accuracy with LwR is  0.8125\n",
      "current accuracy with LwR is  0.81568627451\n",
      "current accuracy with LwR is  0.826771653543\n",
      "current accuracy with LwR is  0.826086956522\n",
      "current accuracy with LwR is  0.829365079365\n",
      "current accuracy with LwR is  0.844621513944\n",
      "current accuracy with LwR is  0.844621513944\n",
      "current accuracy with LwR is  0.856\n",
      "current accuracy with LwR is  0.863453815261\n",
      "current accuracy with LwR is  0.870967741935\n",
      "current accuracy with LwR is  0.870967741935\n",
      "current accuracy with LwR is  0.875\n",
      "current accuracy with LwR is  0.87044534413\n",
      "We have exausted the budget\n"
     ]
    }
   ],
   "source": [
    "arNB_25= interactive_learning_NB(budget=50)"
   ]
  },
  {
   "cell_type": "code",
   "execution_count": 38,
   "metadata": {},
   "outputs": [
    {
     "name": "stdout",
     "output_type": "stream",
     "text": [
      "loading original data...\n",
      "loading labeled data...\n",
      "applying rationale on training data...\n",
      "training a MultinomialNB classifier...\n",
      "current accuracy with LwR is  0.714776632302\n",
      "current accuracy with LwR is  0.727272727273\n",
      "current accuracy with LwR is  0.786476868327\n",
      "current accuracy with LwR is  0.757246376812\n",
      "current accuracy with LwR is  0.774907749077\n",
      "current accuracy with LwR is  0.80223880597\n",
      "current accuracy with LwR is  0.809885931559\n",
      "current accuracy with LwR is  0.817829457364\n",
      "current accuracy with LwR is  0.811023622047\n",
      "current accuracy with LwR is  0.827309236948\n",
      "current accuracy with LwR is  0.828571428571\n",
      "We have exausted the budget\n"
     ]
    }
   ],
   "source": [
    "il_UNPC_25 = interactive_learning_UNPC(budget=50)"
   ]
  },
  {
   "cell_type": "code",
   "execution_count": 39,
   "metadata": {},
   "outputs": [
    {
     "name": "stdout",
     "output_type": "stream",
     "text": [
      "loading original data...\n",
      "loading labeled data...\n",
      "applying rationale on training data...\n",
      "training a MultinomialNB classifier...\n",
      "current accuracy with LwR is  0.714776632302\n",
      "current accuracy with LwR is  0.734265734266\n",
      "current accuracy with LwR is  0.683274021352\n",
      "current accuracy with LwR is  0.717391304348\n",
      "current accuracy with LwR is  0.708487084871\n",
      "current accuracy with LwR is  0.699248120301\n",
      "current accuracy with LwR is  0.724137931034\n",
      "current accuracy with LwR is  0.71484375\n",
      "current accuracy with LwR is  0.729083665339\n",
      "current accuracy with LwR is  0.764227642276\n",
      "current accuracy with LwR is  0.746887966805\n",
      "We have exausted the budget\n"
     ]
    }
   ],
   "source": [
    "trad_25 = traditional_learning(50)"
   ]
  },
  {
   "cell_type": "code",
   "execution_count": 40,
   "metadata": {},
   "outputs": [
    {
     "name": "stdout",
     "output_type": "stream",
     "text": [
      "loading original data...\n",
      "loading labeled data...\n",
      "applying rationale on training data...\n",
      "training a MultinomialNB classifier...\n",
      "current accuracy with LwR is  0.714776632302\n",
      "current accuracy with LwR is  0.644827586207\n",
      "current accuracy with LwR is  0.75\n",
      "current accuracy with LwR is  0.668989547038\n",
      "current accuracy with LwR is  0.657342657343\n",
      "current accuracy with LwR is  0.647887323944\n",
      "current accuracy with LwR is  0.664310954064\n",
      "current accuracy with LwR is  0.691489361702\n",
      "current accuracy with LwR is  0.729241877256\n",
      "current accuracy with LwR is  0.731884057971\n",
      "current accuracy with LwR is  0.763636363636\n",
      "We have exausted the budget\n"
     ]
    }
   ],
   "source": [
    "al_25= interactive_learning(budget=50)"
   ]
  },
  {
   "cell_type": "code",
   "execution_count": 48,
   "metadata": {},
   "outputs": [
    {
     "data": {
      "image/png": "[encoded data removed]",
      "text/plain": [
       "<matplotlib.figure.Figure at 0x293f033e3c8>"
      ]
     },
     "metadata": {},
     "output_type": "display_data"
    }
   ],
   "source": [
    "x2= [i*5 for i in range(11)]\n",
    "x= [i for i in range(51)]\n",
    "irn, = plt.plot(x2,il_UNPC_25,'.r-',label='interactive learning UNPC')\n",
    "ir, = plt.plot(x2,al_25,'.g-',label='interactive learning')\n",
    "irNB, = plt.plot(x,arNB_25,'.y-',label='interactive learning no Batcher')\n",
    "tr, = plt.plot(x2,trad_25,'.b-',label='tradtional learning')\n",
    "plt.ylabel('Accuracy')\n",
    "plt.xlabel('number of documents')\n",
    "plt.xscale('linear')\n",
    "plt.xticks(x2)\n",
    "plt.legend(handles=[ir,tr,irn,irNB])\n",
    "plt.show()"
   ]
  },
  {
   "cell_type": "code",
   "execution_count": null,
   "metadata": {
    "collapsed": true
   },
   "outputs": [],
   "source": []
  }
 ],
 "metadata": {
  "kernelspec": {
   "display_name": "Python 3",
   "language": "python",
   "name": "python3"
  },
  "language_info": {
   "codemirror_mode": {
    "name": "ipython",
    "version": 3
   },
   "file_extension": ".py",
   "mimetype": "text/x-python",
   "name": "python",
   "nbconvert_exporter": "python",
   "pygments_lexer": "ipython3",
   "version": "3.6.3"
  }
 },
 "nbformat": 4,
 "nbformat_minor": 2
}
