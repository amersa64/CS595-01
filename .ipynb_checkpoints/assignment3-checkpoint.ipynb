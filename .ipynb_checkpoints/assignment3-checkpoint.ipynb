{
 "cells": [
  {
   "cell_type": "markdown",
   "metadata": {},
   "source": [
    "# Titianic Dataset Descrition\n",
    "The sinking of the RMS Titanic is one of the most infamous shipwrecks in history.  On April 15, 1912, during her maiden voyage, the Titanic sank after colliding with an iceberg, killing 1502 out of 2224 passengers and crew. This sensational tragedy shocked the international community and led to better safety regulations for ships.\n",
    "\n",
    "One of the reasons that the shipwreck led to such loss of life was that there were not enough lifeboats for the passengers and crew. Although there was some element of luck involved in surviving the sinking, some groups of people were more likely to survive than others, such as women, children, and the upper-class.\n",
    "\n",
    "Number of Objects = 1309 \n",
    "Number of Features = 10\n",
    "train and test Split is 1/3 by 2/3\n",
    "\n",
    "### Variable Definition\tKey\n",
    "* Survived\tSurvival\t0 = No, 1 = Yes\n",
    "* pclass\tTicket class\t1 = 1st, 2 = 2nd, 3 = 3rd\n",
    "* sex\tgender\t\n",
    "* Age\tAge in years\t\n",
    "* sibsp \t# of siblings / spouses aboard the Titanic\t\n",
    "* parch\t  # of parents / children aboard the Titanic\t\n",
    "* ticket\tTicket number\t\n",
    "* fare\tPassenger fare\t\n",
    "* cabin\tCabin number\t\n",
    "* embarked\tPort of Embarkation\tC = Cherbourg, Q = Queenstown, S = Southampton\n",
    "\n",
    "### Variable Notes\n",
    "\n",
    "pclass: A proxy for socio-economic status (SES)\n",
    "1st = Upper\n",
    "2nd = Middle\n",
    "3rd = Lower\n",
    "\n",
    "age: Age is fractional if less than 1. If the age is estimated, is it in the form of xx.5\n",
    "\n",
    "sibsp: The dataset defines family relations in this way...\n",
    "Sibling = brother, sister, stepbrother, stepsister\n",
    "Spouse = husband, wife (mistresses and fiancés were ignored)\n",
    "\n",
    "parch: The dataset defines family relations in this way...\n",
    "Parent = mother, father\n",
    "Child = daughter, son, stepdaughter, stepson\n",
    "Some children travelled only with a nanny, therefore parch=0 for them."
   ]
  },
  {
   "cell_type": "code",
   "execution_count": 18,
   "metadata": {
    "collapsed": true
   },
   "outputs": [],
   "source": [
    "from sklearn import tree\n",
    "import random\n",
    "import pandas\n",
    "from sklearn.preprocessing import LabelEncoder\n",
    "from sklearn.model_selection import train_test_split\n",
    "from astropy.table import Table, Column\n",
    "import numpy as np\n",
    "import graphviz \n",
    "from sklearn import metrics"
   ]
  },
  {
   "cell_type": "markdown",
   "metadata": {},
   "source": [
    "## loading the dataset"
   ]
  },
  {
   "cell_type": "code",
   "execution_count": 2,
   "metadata": {
    "collapsed": true
   },
   "outputs": [],
   "source": [
    "data = pandas.read_csv('train.csv', index_col='PassengerId' )"
   ]
  },
  {
   "cell_type": "code",
   "execution_count": 3,
   "metadata": {
    "collapsed": true
   },
   "outputs": [],
   "source": [
    "#dropping all rows with null values because Decision Tree can't handle them\n",
    "#unless we do some feature engineering as to replace these missing fields\n",
    "data.dropna(inplace=True)"
   ]
  },
  {
   "cell_type": "code",
   "execution_count": 4,
   "metadata": {
    "collapsed": true
   },
   "outputs": [],
   "source": [
    "# dropping columns such as Name and Ticket and Cabin from the dataset\n",
    "# they are confusing and don't provide much info\n",
    "# unless we do feature extraction from them\n",
    "# such as Suffix from the names or we change the Cabin to hasCabin boolean feature\n",
    "data.drop(['Name','Ticket', 'Cabin'],axis = 1,inplace = True)"
   ]
  },
  {
   "cell_type": "code",
   "execution_count": 5,
   "metadata": {
    "collapsed": true
   },
   "outputs": [],
   "source": [
    "# creating column names of the fields for the decsionTree Visualization\n",
    "cols = data.drop('Survived', axis = 1).columns"
   ]
  },
  {
   "cell_type": "code",
   "execution_count": 6,
   "metadata": {
    "collapsed": true
   },
   "outputs": [],
   "source": [
    "# Endcoding attributes to have int values for example if sex = male then 1 else sex = female = 0\n",
    "data['Embarked'] = LabelEncoder().fit_transform(data['Embarked'])\n",
    "data['Sex'] = LabelEncoder().fit_transform(data['Sex'])"
   ]
  },
  {
   "cell_type": "code",
   "execution_count": 7,
   "metadata": {
    "collapsed": true
   },
   "outputs": [],
   "source": [
    "# Spliting the dataset into train and test since the split that was provided can't be used\n",
    "# it doesn't provide the labels for the test set\n",
    "train_x,test_x, train_y,test_y = train_test_split(data.drop('Survived', axis = 1), data['Survived'], test_size = 0.33)"
   ]
  },
  {
   "cell_type": "markdown",
   "metadata": {},
   "source": [
    "## Training a decision tree classifier with depth = 1"
   ]
  },
  {
   "cell_type": "code",
   "execution_count": 12,
   "metadata": {},
   "outputs": [
    {
     "name": "stdout",
     "output_type": "stream",
     "text": [
      "The Accuracy  on Train is  0.737704918033\n",
      "The Accuracy  on Test is  0.754098360656\n"
     ]
    },
    {
     "data": {
      "image/svg+xml": [
       "<?xml version=\"1.0\" encoding=\"UTF-8\" standalone=\"no\"?>\r\n",
       "<!DOCTYPE svg PUBLIC \"-//W3C//DTD SVG 1.1//EN\"\r\n",
       " \"http://www.w3.org/Graphics/SVG/1.1/DTD/svg11.dtd\">\r\n",
       "<!-- Generated by graphviz version 2.38.0 (20140413.2041)\r\n",
       " -->\r\n",
       "<!-- Title: Tree Pages: 1 -->\r\n",
       "<svg width=\"244pt\" height=\"165pt\"\r\n",
       " viewBox=\"0.00 0.00 244.00 165.00\" xmlns=\"http://www.w3.org/2000/svg\" xmlns:xlink=\"http://www.w3.org/1999/xlink\">\r\n",
       "<g id=\"graph0\" class=\"graph\" transform=\"scale(1 1) rotate(0) translate(4 161)\">\r\n",
       "<title>Tree</title>\r\n",
       "<polygon fill=\"white\" stroke=\"none\" points=\"-4,4 -4,-161 240,-161 240,4 -4,4\"/>\r\n",
       "<!-- 0 -->\r\n",
       "<g id=\"node1\" class=\"node\"><title>0</title>\r\n",
       "<path fill=\"#399de5\" fill-opacity=\"0.596078\" stroke=\"black\" d=\"M160,-157C160,-157 71,-157 71,-157 65,-157 59,-151 59,-145 59,-145 59,-101 59,-101 59,-95 65,-89 71,-89 71,-89 160,-89 160,-89 166,-89 172,-95 172,-101 172,-101 172,-145 172,-145 172,-151 166,-157 160,-157\"/>\r\n",
       "<text text-anchor=\"middle\" x=\"115.5\" y=\"-141.8\" font-family=\"Helvetica,sans-Serif\" font-size=\"14.00\">Sex &lt;= 0.5</text>\r\n",
       "<text text-anchor=\"middle\" x=\"115.5\" y=\"-126.8\" font-family=\"Helvetica,sans-Serif\" font-size=\"14.00\">gini = 0.4092</text>\r\n",
       "<text text-anchor=\"middle\" x=\"115.5\" y=\"-111.8\" font-family=\"Helvetica,sans-Serif\" font-size=\"14.00\">samples = 122</text>\r\n",
       "<text text-anchor=\"middle\" x=\"115.5\" y=\"-96.8\" font-family=\"Helvetica,sans-Serif\" font-size=\"14.00\">value = [35, 87]</text>\r\n",
       "</g>\r\n",
       "<!-- 1 -->\r\n",
       "<g id=\"node2\" class=\"node\"><title>1</title>\r\n",
       "<path fill=\"#399de5\" fill-opacity=\"0.949020\" stroke=\"black\" d=\"M93,-53C93,-53 12,-53 12,-53 6,-53 0,-47 0,-41 0,-41 0,-12 0,-12 0,-6 6,-0 12,-0 12,-0 93,-0 93,-0 99,-0 105,-6 105,-12 105,-12 105,-41 105,-41 105,-47 99,-53 93,-53\"/>\r\n",
       "<text text-anchor=\"middle\" x=\"52.5\" y=\"-37.8\" font-family=\"Helvetica,sans-Serif\" font-size=\"14.00\">gini = 0.0935</text>\r\n",
       "<text text-anchor=\"middle\" x=\"52.5\" y=\"-22.8\" font-family=\"Helvetica,sans-Serif\" font-size=\"14.00\">samples = 61</text>\r\n",
       "<text text-anchor=\"middle\" x=\"52.5\" y=\"-7.8\" font-family=\"Helvetica,sans-Serif\" font-size=\"14.00\">value = [3, 58]</text>\r\n",
       "</g>\r\n",
       "<!-- 0&#45;&gt;1 -->\r\n",
       "<g id=\"edge1\" class=\"edge\"><title>0&#45;&gt;1</title>\r\n",
       "<path fill=\"none\" stroke=\"black\" d=\"M93.4657,-88.9485C87.6109,-80.1664 81.2753,-70.6629 75.3767,-61.815\"/>\r\n",
       "<polygon fill=\"black\" stroke=\"black\" points=\"78.117,-59.6158 69.6578,-53.2367 72.2927,-63.4987 78.117,-59.6158\"/>\r\n",
       "<text text-anchor=\"middle\" x=\"64.7549\" y=\"-74.0512\" font-family=\"Helvetica,sans-Serif\" font-size=\"14.00\">True</text>\r\n",
       "</g>\r\n",
       "<!-- 2 -->\r\n",
       "<g id=\"node3\" class=\"node\"><title>2</title>\r\n",
       "<path fill=\"#e58139\" fill-opacity=\"0.094118\" stroke=\"black\" d=\"M224,-53C224,-53 135,-53 135,-53 129,-53 123,-47 123,-41 123,-41 123,-12 123,-12 123,-6 129,-0 135,-0 135,-0 224,-0 224,-0 230,-0 236,-6 236,-12 236,-12 236,-41 236,-41 236,-47 230,-53 224,-53\"/>\r\n",
       "<text text-anchor=\"middle\" x=\"179.5\" y=\"-37.8\" font-family=\"Helvetica,sans-Serif\" font-size=\"14.00\">gini = 0.4988</text>\r\n",
       "<text text-anchor=\"middle\" x=\"179.5\" y=\"-22.8\" font-family=\"Helvetica,sans-Serif\" font-size=\"14.00\">samples = 61</text>\r\n",
       "<text text-anchor=\"middle\" x=\"179.5\" y=\"-7.8\" font-family=\"Helvetica,sans-Serif\" font-size=\"14.00\">value = [32, 29]</text>\r\n",
       "</g>\r\n",
       "<!-- 0&#45;&gt;2 -->\r\n",
       "<g id=\"edge2\" class=\"edge\"><title>0&#45;&gt;2</title>\r\n",
       "<path fill=\"none\" stroke=\"black\" d=\"M137.884,-88.9485C143.894,-80.0749 150.402,-70.4648 156.447,-61.5388\"/>\r\n",
       "<polygon fill=\"black\" stroke=\"black\" points=\"159.36,-63.4792 162.07,-53.2367 153.564,-59.5539 159.36,-63.4792\"/>\r\n",
       "<text text-anchor=\"middle\" x=\"166.794\" y=\"-74.0863\" font-family=\"Helvetica,sans-Serif\" font-size=\"14.00\">False</text>\r\n",
       "</g>\r\n",
       "</g>\r\n",
       "</svg>\r\n"
      ],
      "text/plain": [
       "<graphviz.files.Source at 0x167a55e5860>"
      ]
     },
     "execution_count": 12,
     "metadata": {},
     "output_type": "execute_result"
    }
   ],
   "source": [
    "random.seed(1)\n",
    "clf = tree.DecisionTreeClassifier(max_depth=1)\n",
    "clf = clf.fit( train_x,train_y )\n",
    "pridict_d_1 = clf.predict(test_x)\n",
    "pridict_d_2 = clf.predict(train_x)\n",
    "accuracy_train_1 = metrics.accuracy_score(train_y, pridict_d_2)\n",
    "accuracy_test_1 = metrics.accuracy_score(test_y, pridict_d_1)\n",
    "print(\"The Accuracy  on Train is \",accuracy_train_1\n",
    "print(\"The Accuracy  on Test is \",accuracy_test_1)\n",
    "dot_data = tree.export_graphviz(clf,feature_names=cols,filled=True, rounded=True,out_file=None) \n",
    "graph = graphviz.Source(dot_data) \n",
    "graph"
   ]
  },
  {
   "cell_type": "markdown",
   "metadata": {},
   "source": [
    "## Training a decision tree classifier with depth = 2"
   ]
  },
  {
   "cell_type": "code",
   "execution_count": 13,
   "metadata": {},
   "outputs": [
    {
     "name": "stdout",
     "output_type": "stream",
     "text": [
      "The Accuracy  on Train is  0.803278688525\n",
      "The Accuracy  on Test is  0.786885245902\n"
     ]
    },
    {
     "data": {
      "image/svg+xml": [
       "<?xml version=\"1.0\" encoding=\"UTF-8\" standalone=\"no\"?>\r\n",
       "<!DOCTYPE svg PUBLIC \"-//W3C//DTD SVG 1.1//EN\"\r\n",
       " \"http://www.w3.org/Graphics/SVG/1.1/DTD/svg11.dtd\">\r\n",
       "<!-- Generated by graphviz version 2.38.0 (20140413.2041)\r\n",
       " -->\r\n",
       "<!-- Title: Tree Pages: 1 -->\r\n",
       "<svg width=\"482pt\" height=\"269pt\"\r\n",
       " viewBox=\"0.00 0.00 482.00 269.00\" xmlns=\"http://www.w3.org/2000/svg\" xmlns:xlink=\"http://www.w3.org/1999/xlink\">\r\n",
       "<g id=\"graph0\" class=\"graph\" transform=\"scale(1 1) rotate(0) translate(4 265)\">\r\n",
       "<title>Tree</title>\r\n",
       "<polygon fill=\"white\" stroke=\"none\" points=\"-4,4 -4,-265 478,-265 478,4 -4,4\"/>\r\n",
       "<!-- 0 -->\r\n",
       "<g id=\"node1\" class=\"node\"><title>0</title>\r\n",
       "<path fill=\"#399de5\" fill-opacity=\"0.596078\" stroke=\"black\" d=\"M275,-261C275,-261 186,-261 186,-261 180,-261 174,-255 174,-249 174,-249 174,-205 174,-205 174,-199 180,-193 186,-193 186,-193 275,-193 275,-193 281,-193 287,-199 287,-205 287,-205 287,-249 287,-249 287,-255 281,-261 275,-261\"/>\r\n",
       "<text text-anchor=\"middle\" x=\"230.5\" y=\"-245.8\" font-family=\"Helvetica,sans-Serif\" font-size=\"14.00\">Sex &lt;= 0.5</text>\r\n",
       "<text text-anchor=\"middle\" x=\"230.5\" y=\"-230.8\" font-family=\"Helvetica,sans-Serif\" font-size=\"14.00\">gini = 0.4092</text>\r\n",
       "<text text-anchor=\"middle\" x=\"230.5\" y=\"-215.8\" font-family=\"Helvetica,sans-Serif\" font-size=\"14.00\">samples = 122</text>\r\n",
       "<text text-anchor=\"middle\" x=\"230.5\" y=\"-200.8\" font-family=\"Helvetica,sans-Serif\" font-size=\"14.00\">value = [35, 87]</text>\r\n",
       "</g>\r\n",
       "<!-- 1 -->\r\n",
       "<g id=\"node2\" class=\"node\"><title>1</title>\r\n",
       "<path fill=\"#399de5\" fill-opacity=\"0.949020\" stroke=\"black\" d=\"M212,-157C212,-157 113,-157 113,-157 107,-157 101,-151 101,-145 101,-145 101,-101 101,-101 101,-95 107,-89 113,-89 113,-89 212,-89 212,-89 218,-89 224,-95 224,-101 224,-101 224,-145 224,-145 224,-151 218,-157 212,-157\"/>\r\n",
       "<text text-anchor=\"middle\" x=\"162.5\" y=\"-141.8\" font-family=\"Helvetica,sans-Serif\" font-size=\"14.00\">Fare &lt;= 10.4812</text>\r\n",
       "<text text-anchor=\"middle\" x=\"162.5\" y=\"-126.8\" font-family=\"Helvetica,sans-Serif\" font-size=\"14.00\">gini = 0.0935</text>\r\n",
       "<text text-anchor=\"middle\" x=\"162.5\" y=\"-111.8\" font-family=\"Helvetica,sans-Serif\" font-size=\"14.00\">samples = 61</text>\r\n",
       "<text text-anchor=\"middle\" x=\"162.5\" y=\"-96.8\" font-family=\"Helvetica,sans-Serif\" font-size=\"14.00\">value = [3, 58]</text>\r\n",
       "</g>\r\n",
       "<!-- 0&#45;&gt;1 -->\r\n",
       "<g id=\"edge1\" class=\"edge\"><title>0&#45;&gt;1</title>\r\n",
       "<path fill=\"none\" stroke=\"black\" d=\"M208.422,-192.884C202.662,-184.243 196.379,-174.819 190.362,-165.793\"/>\r\n",
       "<polygon fill=\"black\" stroke=\"black\" points=\"193.159,-163.678 184.7,-157.299 187.334,-167.561 193.159,-163.678\"/>\r\n",
       "<text text-anchor=\"middle\" x=\"179.797\" y=\"-178.114\" font-family=\"Helvetica,sans-Serif\" font-size=\"14.00\">True</text>\r\n",
       "</g>\r\n",
       "<!-- 4 -->\r\n",
       "<g id=\"node5\" class=\"node\"><title>4</title>\r\n",
       "<path fill=\"#e58139\" fill-opacity=\"0.094118\" stroke=\"black\" d=\"M343,-157C343,-157 254,-157 254,-157 248,-157 242,-151 242,-145 242,-145 242,-101 242,-101 242,-95 248,-89 254,-89 254,-89 343,-89 343,-89 349,-89 355,-95 355,-101 355,-101 355,-145 355,-145 355,-151 349,-157 343,-157\"/>\r\n",
       "<text text-anchor=\"middle\" x=\"298.5\" y=\"-141.8\" font-family=\"Helvetica,sans-Serif\" font-size=\"14.00\">Age &lt;= 17.5</text>\r\n",
       "<text text-anchor=\"middle\" x=\"298.5\" y=\"-126.8\" font-family=\"Helvetica,sans-Serif\" font-size=\"14.00\">gini = 0.4988</text>\r\n",
       "<text text-anchor=\"middle\" x=\"298.5\" y=\"-111.8\" font-family=\"Helvetica,sans-Serif\" font-size=\"14.00\">samples = 61</text>\r\n",
       "<text text-anchor=\"middle\" x=\"298.5\" y=\"-96.8\" font-family=\"Helvetica,sans-Serif\" font-size=\"14.00\">value = [32, 29]</text>\r\n",
       "</g>\r\n",
       "<!-- 0&#45;&gt;4 -->\r\n",
       "<g id=\"edge4\" class=\"edge\"><title>0&#45;&gt;4</title>\r\n",
       "<path fill=\"none\" stroke=\"black\" d=\"M252.578,-192.884C258.338,-184.243 264.621,-174.819 270.638,-165.793\"/>\r\n",
       "<polygon fill=\"black\" stroke=\"black\" points=\"273.666,-167.561 276.3,-157.299 267.841,-163.678 273.666,-167.561\"/>\r\n",
       "<text text-anchor=\"middle\" x=\"281.203\" y=\"-178.114\" font-family=\"Helvetica,sans-Serif\" font-size=\"14.00\">False</text>\r\n",
       "</g>\r\n",
       "<!-- 2 -->\r\n",
       "<g id=\"node3\" class=\"node\"><title>2</title>\r\n",
       "<path fill=\"#e58139\" stroke=\"black\" d=\"M85,-53C85,-53 12,-53 12,-53 6,-53 0,-47 0,-41 0,-41 0,-12 0,-12 0,-6 6,-0 12,-0 12,-0 85,-0 85,-0 91,-0 97,-6 97,-12 97,-12 97,-41 97,-41 97,-47 91,-53 85,-53\"/>\r\n",
       "<text text-anchor=\"middle\" x=\"48.5\" y=\"-37.8\" font-family=\"Helvetica,sans-Serif\" font-size=\"14.00\">gini = 0.0</text>\r\n",
       "<text text-anchor=\"middle\" x=\"48.5\" y=\"-22.8\" font-family=\"Helvetica,sans-Serif\" font-size=\"14.00\">samples = 2</text>\r\n",
       "<text text-anchor=\"middle\" x=\"48.5\" y=\"-7.8\" font-family=\"Helvetica,sans-Serif\" font-size=\"14.00\">value = [2, 0]</text>\r\n",
       "</g>\r\n",
       "<!-- 1&#45;&gt;2 -->\r\n",
       "<g id=\"edge2\" class=\"edge\"><title>1&#45;&gt;2</title>\r\n",
       "<path fill=\"none\" stroke=\"black\" d=\"M122.628,-88.9485C111.262,-79.526 98.893,-69.2731 87.5743,-59.8906\"/>\r\n",
       "<polygon fill=\"black\" stroke=\"black\" points=\"89.4799,-56.924 79.5475,-53.2367 85.0126,-62.3132 89.4799,-56.924\"/>\r\n",
       "</g>\r\n",
       "<!-- 3 -->\r\n",
       "<g id=\"node4\" class=\"node\"><title>3</title>\r\n",
       "<path fill=\"#399de5\" fill-opacity=\"0.984314\" stroke=\"black\" d=\"M208,-53C208,-53 127,-53 127,-53 121,-53 115,-47 115,-41 115,-41 115,-12 115,-12 115,-6 121,-0 127,-0 127,-0 208,-0 208,-0 214,-0 220,-6 220,-12 220,-12 220,-41 220,-41 220,-47 214,-53 208,-53\"/>\r\n",
       "<text text-anchor=\"middle\" x=\"167.5\" y=\"-37.8\" font-family=\"Helvetica,sans-Serif\" font-size=\"14.00\">gini = 0.0333</text>\r\n",
       "<text text-anchor=\"middle\" x=\"167.5\" y=\"-22.8\" font-family=\"Helvetica,sans-Serif\" font-size=\"14.00\">samples = 59</text>\r\n",
       "<text text-anchor=\"middle\" x=\"167.5\" y=\"-7.8\" font-family=\"Helvetica,sans-Serif\" font-size=\"14.00\">value = [1, 58]</text>\r\n",
       "</g>\r\n",
       "<!-- 1&#45;&gt;3 -->\r\n",
       "<g id=\"edge3\" class=\"edge\"><title>1&#45;&gt;3</title>\r\n",
       "<path fill=\"none\" stroke=\"black\" d=\"M164.249,-88.9485C164.684,-80.7153 165.154,-71.848 165.596,-63.4814\"/>\r\n",
       "<polygon fill=\"black\" stroke=\"black\" points=\"169.105,-63.4077 166.138,-53.2367 162.115,-63.0378 169.105,-63.4077\"/>\r\n",
       "</g>\r\n",
       "<!-- 5 -->\r\n",
       "<g id=\"node6\" class=\"node\"><title>5</title>\r\n",
       "<path fill=\"#399de5\" stroke=\"black\" d=\"M331,-53C331,-53 258,-53 258,-53 252,-53 246,-47 246,-41 246,-41 246,-12 246,-12 246,-6 252,-0 258,-0 258,-0 331,-0 331,-0 337,-0 343,-6 343,-12 343,-12 343,-41 343,-41 343,-47 337,-53 331,-53\"/>\r\n",
       "<text text-anchor=\"middle\" x=\"294.5\" y=\"-37.8\" font-family=\"Helvetica,sans-Serif\" font-size=\"14.00\">gini = 0.0</text>\r\n",
       "<text text-anchor=\"middle\" x=\"294.5\" y=\"-22.8\" font-family=\"Helvetica,sans-Serif\" font-size=\"14.00\">samples = 6</text>\r\n",
       "<text text-anchor=\"middle\" x=\"294.5\" y=\"-7.8\" font-family=\"Helvetica,sans-Serif\" font-size=\"14.00\">value = [0, 6]</text>\r\n",
       "</g>\r\n",
       "<!-- 4&#45;&gt;5 -->\r\n",
       "<g id=\"edge5\" class=\"edge\"><title>4&#45;&gt;5</title>\r\n",
       "<path fill=\"none\" stroke=\"black\" d=\"M297.101,-88.9485C296.752,-80.7153 296.377,-71.848 296.023,-63.4814\"/>\r\n",
       "<polygon fill=\"black\" stroke=\"black\" points=\"299.509,-63.0797 295.589,-53.2367 292.516,-63.3758 299.509,-63.0797\"/>\r\n",
       "</g>\r\n",
       "<!-- 6 -->\r\n",
       "<g id=\"node7\" class=\"node\"><title>6</title>\r\n",
       "<path fill=\"#e58139\" fill-opacity=\"0.282353\" stroke=\"black\" d=\"M462,-53C462,-53 373,-53 373,-53 367,-53 361,-47 361,-41 361,-41 361,-12 361,-12 361,-6 367,-0 373,-0 373,-0 462,-0 462,-0 468,-0 474,-6 474,-12 474,-12 474,-41 474,-41 474,-47 468,-53 462,-53\"/>\r\n",
       "<text text-anchor=\"middle\" x=\"417.5\" y=\"-37.8\" font-family=\"Helvetica,sans-Serif\" font-size=\"14.00\">gini = 0.4866</text>\r\n",
       "<text text-anchor=\"middle\" x=\"417.5\" y=\"-22.8\" font-family=\"Helvetica,sans-Serif\" font-size=\"14.00\">samples = 55</text>\r\n",
       "<text text-anchor=\"middle\" x=\"417.5\" y=\"-7.8\" font-family=\"Helvetica,sans-Serif\" font-size=\"14.00\">value = [32, 23]</text>\r\n",
       "</g>\r\n",
       "<!-- 4&#45;&gt;6 -->\r\n",
       "<g id=\"edge6\" class=\"edge\"><title>4&#45;&gt;6</title>\r\n",
       "<path fill=\"none\" stroke=\"black\" d=\"M340.12,-88.9485C352.101,-79.4346 365.148,-69.074 377.056,-59.6175\"/>\r\n",
       "<polygon fill=\"black\" stroke=\"black\" points=\"379.436,-62.1965 385.091,-53.2367 375.083,-56.7147 379.436,-62.1965\"/>\r\n",
       "</g>\r\n",
       "</g>\r\n",
       "</svg>\r\n"
      ],
      "text/plain": [
       "<graphviz.files.Source at 0x167a55e5a20>"
      ]
     },
     "execution_count": 13,
     "metadata": {},
     "output_type": "execute_result"
    }
   ],
   "source": [
    "random.seed(1)\n",
    "clf = tree.DecisionTreeClassifier(max_depth=2)\n",
    "clf = clf.fit( train_x,train_y )\n",
    "pridict_d_1 = clf.predict(test_x)\n",
    "pridict_d_2 = clf.predict(train_x)\n",
    "accuracy_train_2 = metrics.accuracy_score(train_y, pridict_d_2)\n",
    "accuracy_test_2 = metrics.accuracy_score(test_y, pridict_d_1)\n",
    "print(\"The Accuracy  on Train is \",accuracy_train_2)\n",
    "print(\"The Accuracy  on Test is \",accuracy_test_2)\n",
    "dot_data = tree.export_graphviz(clf,feature_names=cols,filled=True, rounded=True,out_file=None) \n",
    "graph = graphviz.Source(dot_data) \n",
    "graph"
   ]
  },
  {
   "cell_type": "markdown",
   "metadata": {},
   "source": [
    "## Training a decision tree classifier with depth = 3"
   ]
  },
  {
   "cell_type": "code",
   "execution_count": 14,
   "metadata": {},
   "outputs": [
    {
     "name": "stdout",
     "output_type": "stream",
     "text": [
      "The Accuracy  on Train is  0.803278688525\n",
      "The Accuracy  on Test is  0.786885245902\n"
     ]
    },
    {
     "data": {
      "image/svg+xml": [
       "<?xml version=\"1.0\" encoding=\"UTF-8\" standalone=\"no\"?>\r\n",
       "<!DOCTYPE svg PUBLIC \"-//W3C//DTD SVG 1.1//EN\"\r\n",
       " \"http://www.w3.org/Graphics/SVG/1.1/DTD/svg11.dtd\">\r\n",
       "<!-- Generated by graphviz version 2.38.0 (20140413.2041)\r\n",
       " -->\r\n",
       "<!-- Title: Tree Pages: 1 -->\r\n",
       "<svg width=\"545pt\" height=\"373pt\"\r\n",
       " viewBox=\"0.00 0.00 545.00 373.00\" xmlns=\"http://www.w3.org/2000/svg\" xmlns:xlink=\"http://www.w3.org/1999/xlink\">\r\n",
       "<g id=\"graph0\" class=\"graph\" transform=\"scale(1 1) rotate(0) translate(4 369)\">\r\n",
       "<title>Tree</title>\r\n",
       "<polygon fill=\"white\" stroke=\"none\" points=\"-4,4 -4,-369 541,-369 541,4 -4,4\"/>\r\n",
       "<!-- 0 -->\r\n",
       "<g id=\"node1\" class=\"node\"><title>0</title>\r\n",
       "<path fill=\"#399de5\" fill-opacity=\"0.596078\" stroke=\"black\" d=\"M277,-365C277,-365 188,-365 188,-365 182,-365 176,-359 176,-353 176,-353 176,-309 176,-309 176,-303 182,-297 188,-297 188,-297 277,-297 277,-297 283,-297 289,-303 289,-309 289,-309 289,-353 289,-353 289,-359 283,-365 277,-365\"/>\r\n",
       "<text text-anchor=\"middle\" x=\"232.5\" y=\"-349.8\" font-family=\"Helvetica,sans-Serif\" font-size=\"14.00\">Sex &lt;= 0.5</text>\r\n",
       "<text text-anchor=\"middle\" x=\"232.5\" y=\"-334.8\" font-family=\"Helvetica,sans-Serif\" font-size=\"14.00\">gini = 0.4092</text>\r\n",
       "<text text-anchor=\"middle\" x=\"232.5\" y=\"-319.8\" font-family=\"Helvetica,sans-Serif\" font-size=\"14.00\">samples = 122</text>\r\n",
       "<text text-anchor=\"middle\" x=\"232.5\" y=\"-304.8\" font-family=\"Helvetica,sans-Serif\" font-size=\"14.00\">value = [35, 87]</text>\r\n",
       "</g>\r\n",
       "<!-- 1 -->\r\n",
       "<g id=\"node2\" class=\"node\"><title>1</title>\r\n",
       "<path fill=\"#399de5\" fill-opacity=\"0.949020\" stroke=\"black\" d=\"M214,-261C214,-261 115,-261 115,-261 109,-261 103,-255 103,-249 103,-249 103,-205 103,-205 103,-199 109,-193 115,-193 115,-193 214,-193 214,-193 220,-193 226,-199 226,-205 226,-205 226,-249 226,-249 226,-255 220,-261 214,-261\"/>\r\n",
       "<text text-anchor=\"middle\" x=\"164.5\" y=\"-245.8\" font-family=\"Helvetica,sans-Serif\" font-size=\"14.00\">Fare &lt;= 10.4812</text>\r\n",
       "<text text-anchor=\"middle\" x=\"164.5\" y=\"-230.8\" font-family=\"Helvetica,sans-Serif\" font-size=\"14.00\">gini = 0.0935</text>\r\n",
       "<text text-anchor=\"middle\" x=\"164.5\" y=\"-215.8\" font-family=\"Helvetica,sans-Serif\" font-size=\"14.00\">samples = 61</text>\r\n",
       "<text text-anchor=\"middle\" x=\"164.5\" y=\"-200.8\" font-family=\"Helvetica,sans-Serif\" font-size=\"14.00\">value = [3, 58]</text>\r\n",
       "</g>\r\n",
       "<!-- 0&#45;&gt;1 -->\r\n",
       "<g id=\"edge1\" class=\"edge\"><title>0&#45;&gt;1</title>\r\n",
       "<path fill=\"none\" stroke=\"black\" d=\"M210.422,-296.884C204.662,-288.243 198.379,-278.819 192.362,-269.793\"/>\r\n",
       "<polygon fill=\"black\" stroke=\"black\" points=\"195.159,-267.678 186.7,-261.299 189.334,-271.561 195.159,-267.678\"/>\r\n",
       "<text text-anchor=\"middle\" x=\"181.797\" y=\"-282.114\" font-family=\"Helvetica,sans-Serif\" font-size=\"14.00\">True</text>\r\n",
       "</g>\r\n",
       "<!-- 6 -->\r\n",
       "<g id=\"node7\" class=\"node\"><title>6</title>\r\n",
       "<path fill=\"#e58139\" fill-opacity=\"0.094118\" stroke=\"black\" d=\"M345,-261C345,-261 256,-261 256,-261 250,-261 244,-255 244,-249 244,-249 244,-205 244,-205 244,-199 250,-193 256,-193 256,-193 345,-193 345,-193 351,-193 357,-199 357,-205 357,-205 357,-249 357,-249 357,-255 351,-261 345,-261\"/>\r\n",
       "<text text-anchor=\"middle\" x=\"300.5\" y=\"-245.8\" font-family=\"Helvetica,sans-Serif\" font-size=\"14.00\">Age &lt;= 17.5</text>\r\n",
       "<text text-anchor=\"middle\" x=\"300.5\" y=\"-230.8\" font-family=\"Helvetica,sans-Serif\" font-size=\"14.00\">gini = 0.4988</text>\r\n",
       "<text text-anchor=\"middle\" x=\"300.5\" y=\"-215.8\" font-family=\"Helvetica,sans-Serif\" font-size=\"14.00\">samples = 61</text>\r\n",
       "<text text-anchor=\"middle\" x=\"300.5\" y=\"-200.8\" font-family=\"Helvetica,sans-Serif\" font-size=\"14.00\">value = [32, 29]</text>\r\n",
       "</g>\r\n",
       "<!-- 0&#45;&gt;6 -->\r\n",
       "<g id=\"edge6\" class=\"edge\"><title>0&#45;&gt;6</title>\r\n",
       "<path fill=\"none\" stroke=\"black\" d=\"M254.578,-296.884C260.338,-288.243 266.621,-278.819 272.638,-269.793\"/>\r\n",
       "<polygon fill=\"black\" stroke=\"black\" points=\"275.666,-271.561 278.3,-261.299 269.841,-267.678 275.666,-271.561\"/>\r\n",
       "<text text-anchor=\"middle\" x=\"283.203\" y=\"-282.114\" font-family=\"Helvetica,sans-Serif\" font-size=\"14.00\">False</text>\r\n",
       "</g>\r\n",
       "<!-- 2 -->\r\n",
       "<g id=\"node3\" class=\"node\"><title>2</title>\r\n",
       "<path fill=\"#e58139\" stroke=\"black\" d=\"M85,-149.5C85,-149.5 12,-149.5 12,-149.5 6,-149.5 0,-143.5 0,-137.5 0,-137.5 0,-108.5 0,-108.5 0,-102.5 6,-96.5 12,-96.5 12,-96.5 85,-96.5 85,-96.5 91,-96.5 97,-102.5 97,-108.5 97,-108.5 97,-137.5 97,-137.5 97,-143.5 91,-149.5 85,-149.5\"/>\r\n",
       "<text text-anchor=\"middle\" x=\"48.5\" y=\"-134.3\" font-family=\"Helvetica,sans-Serif\" font-size=\"14.00\">gini = 0.0</text>\r\n",
       "<text text-anchor=\"middle\" x=\"48.5\" y=\"-119.3\" font-family=\"Helvetica,sans-Serif\" font-size=\"14.00\">samples = 2</text>\r\n",
       "<text text-anchor=\"middle\" x=\"48.5\" y=\"-104.3\" font-family=\"Helvetica,sans-Serif\" font-size=\"14.00\">value = [2, 0]</text>\r\n",
       "</g>\r\n",
       "<!-- 1&#45;&gt;2 -->\r\n",
       "<g id=\"edge2\" class=\"edge\"><title>1&#45;&gt;2</title>\r\n",
       "<path fill=\"none\" stroke=\"black\" d=\"M126.838,-192.884C113.455,-181.116 98.4182,-167.894 85.1234,-156.203\"/>\r\n",
       "<polygon fill=\"black\" stroke=\"black\" points=\"87.3436,-153.495 77.5227,-149.52 82.7212,-158.752 87.3436,-153.495\"/>\r\n",
       "</g>\r\n",
       "<!-- 3 -->\r\n",
       "<g id=\"node4\" class=\"node\"><title>3</title>\r\n",
       "<path fill=\"#399de5\" fill-opacity=\"0.984314\" stroke=\"black\" d=\"M210,-157C210,-157 127,-157 127,-157 121,-157 115,-151 115,-145 115,-145 115,-101 115,-101 115,-95 121,-89 127,-89 127,-89 210,-89 210,-89 216,-89 222,-95 222,-101 222,-101 222,-145 222,-145 222,-151 216,-157 210,-157\"/>\r\n",
       "<text text-anchor=\"middle\" x=\"168.5\" y=\"-141.8\" font-family=\"Helvetica,sans-Serif\" font-size=\"14.00\">Fare &lt;= 11.75</text>\r\n",
       "<text text-anchor=\"middle\" x=\"168.5\" y=\"-126.8\" font-family=\"Helvetica,sans-Serif\" font-size=\"14.00\">gini = 0.0333</text>\r\n",
       "<text text-anchor=\"middle\" x=\"168.5\" y=\"-111.8\" font-family=\"Helvetica,sans-Serif\" font-size=\"14.00\">samples = 59</text>\r\n",
       "<text text-anchor=\"middle\" x=\"168.5\" y=\"-96.8\" font-family=\"Helvetica,sans-Serif\" font-size=\"14.00\">value = [1, 58]</text>\r\n",
       "</g>\r\n",
       "<!-- 1&#45;&gt;3 -->\r\n",
       "<g id=\"edge3\" class=\"edge\"><title>1&#45;&gt;3</title>\r\n",
       "<path fill=\"none\" stroke=\"black\" d=\"M165.799,-192.884C166.117,-184.778 166.461,-175.982 166.795,-167.472\"/>\r\n",
       "<polygon fill=\"black\" stroke=\"black\" points=\"170.3,-167.429 167.194,-157.299 163.305,-167.155 170.3,-167.429\"/>\r\n",
       "</g>\r\n",
       "<!-- 4 -->\r\n",
       "<g id=\"node5\" class=\"node\"><title>4</title>\r\n",
       "<path fill=\"#399de5\" fill-opacity=\"0.666667\" stroke=\"black\" d=\"M117,-53C117,-53 44,-53 44,-53 38,-53 32,-47 32,-41 32,-41 32,-12 32,-12 32,-6 38,-0 44,-0 44,-0 117,-0 117,-0 123,-0 129,-6 129,-12 129,-12 129,-41 129,-41 129,-47 123,-53 117,-53\"/>\r\n",
       "<text text-anchor=\"middle\" x=\"80.5\" y=\"-37.8\" font-family=\"Helvetica,sans-Serif\" font-size=\"14.00\">gini = 0.375</text>\r\n",
       "<text text-anchor=\"middle\" x=\"80.5\" y=\"-22.8\" font-family=\"Helvetica,sans-Serif\" font-size=\"14.00\">samples = 4</text>\r\n",
       "<text text-anchor=\"middle\" x=\"80.5\" y=\"-7.8\" font-family=\"Helvetica,sans-Serif\" font-size=\"14.00\">value = [1, 3]</text>\r\n",
       "</g>\r\n",
       "<!-- 3&#45;&gt;4 -->\r\n",
       "<g id=\"edge4\" class=\"edge\"><title>3&#45;&gt;4</title>\r\n",
       "<path fill=\"none\" stroke=\"black\" d=\"M137.722,-88.9485C129.203,-79.8005 119.955,-69.8697 111.428,-60.7126\"/>\r\n",
       "<polygon fill=\"black\" stroke=\"black\" points=\"113.843,-58.1698 104.466,-53.2367 108.72,-62.9402 113.843,-58.1698\"/>\r\n",
       "</g>\r\n",
       "<!-- 5 -->\r\n",
       "<g id=\"node6\" class=\"node\"><title>5</title>\r\n",
       "<path fill=\"#399de5\" stroke=\"black\" d=\"M240,-53C240,-53 159,-53 159,-53 153,-53 147,-47 147,-41 147,-41 147,-12 147,-12 147,-6 153,-0 159,-0 159,-0 240,-0 240,-0 246,-0 252,-6 252,-12 252,-12 252,-41 252,-41 252,-47 246,-53 240,-53\"/>\r\n",
       "<text text-anchor=\"middle\" x=\"199.5\" y=\"-37.8\" font-family=\"Helvetica,sans-Serif\" font-size=\"14.00\">gini = 0.0</text>\r\n",
       "<text text-anchor=\"middle\" x=\"199.5\" y=\"-22.8\" font-family=\"Helvetica,sans-Serif\" font-size=\"14.00\">samples = 55</text>\r\n",
       "<text text-anchor=\"middle\" x=\"199.5\" y=\"-7.8\" font-family=\"Helvetica,sans-Serif\" font-size=\"14.00\">value = [0, 55]</text>\r\n",
       "</g>\r\n",
       "<!-- 3&#45;&gt;5 -->\r\n",
       "<g id=\"edge5\" class=\"edge\"><title>3&#45;&gt;5</title>\r\n",
       "<path fill=\"none\" stroke=\"black\" d=\"M179.342,-88.9485C182.103,-80.5323 185.081,-71.4536 187.879,-62.9243\"/>\r\n",
       "<polygon fill=\"black\" stroke=\"black\" points=\"191.266,-63.8295 191.057,-53.2367 184.615,-61.6475 191.266,-63.8295\"/>\r\n",
       "</g>\r\n",
       "<!-- 7 -->\r\n",
       "<g id=\"node8\" class=\"node\"><title>7</title>\r\n",
       "<path fill=\"#399de5\" stroke=\"black\" d=\"M333,-149.5C333,-149.5 260,-149.5 260,-149.5 254,-149.5 248,-143.5 248,-137.5 248,-137.5 248,-108.5 248,-108.5 248,-102.5 254,-96.5 260,-96.5 260,-96.5 333,-96.5 333,-96.5 339,-96.5 345,-102.5 345,-108.5 345,-108.5 345,-137.5 345,-137.5 345,-143.5 339,-149.5 333,-149.5\"/>\r\n",
       "<text text-anchor=\"middle\" x=\"296.5\" y=\"-134.3\" font-family=\"Helvetica,sans-Serif\" font-size=\"14.00\">gini = 0.0</text>\r\n",
       "<text text-anchor=\"middle\" x=\"296.5\" y=\"-119.3\" font-family=\"Helvetica,sans-Serif\" font-size=\"14.00\">samples = 6</text>\r\n",
       "<text text-anchor=\"middle\" x=\"296.5\" y=\"-104.3\" font-family=\"Helvetica,sans-Serif\" font-size=\"14.00\">value = [0, 6]</text>\r\n",
       "</g>\r\n",
       "<!-- 6&#45;&gt;7 -->\r\n",
       "<g id=\"edge7\" class=\"edge\"><title>6&#45;&gt;7</title>\r\n",
       "<path fill=\"none\" stroke=\"black\" d=\"M299.201,-192.884C298.783,-182.216 298.318,-170.352 297.893,-159.519\"/>\r\n",
       "<polygon fill=\"black\" stroke=\"black\" points=\"301.39,-159.375 297.501,-149.52 294.395,-159.649 301.39,-159.375\"/>\r\n",
       "</g>\r\n",
       "<!-- 8 -->\r\n",
       "<g id=\"node9\" class=\"node\"><title>8</title>\r\n",
       "<path fill=\"#e58139\" fill-opacity=\"0.282353\" stroke=\"black\" d=\"M464,-157C464,-157 375,-157 375,-157 369,-157 363,-151 363,-145 363,-145 363,-101 363,-101 363,-95 369,-89 375,-89 375,-89 464,-89 464,-89 470,-89 476,-95 476,-101 476,-101 476,-145 476,-145 476,-151 470,-157 464,-157\"/>\r\n",
       "<text text-anchor=\"middle\" x=\"419.5\" y=\"-141.8\" font-family=\"Helvetica,sans-Serif\" font-size=\"14.00\">Age &lt;= 27.5</text>\r\n",
       "<text text-anchor=\"middle\" x=\"419.5\" y=\"-126.8\" font-family=\"Helvetica,sans-Serif\" font-size=\"14.00\">gini = 0.4866</text>\r\n",
       "<text text-anchor=\"middle\" x=\"419.5\" y=\"-111.8\" font-family=\"Helvetica,sans-Serif\" font-size=\"14.00\">samples = 55</text>\r\n",
       "<text text-anchor=\"middle\" x=\"419.5\" y=\"-96.8\" font-family=\"Helvetica,sans-Serif\" font-size=\"14.00\">value = [32, 23]</text>\r\n",
       "</g>\r\n",
       "<!-- 6&#45;&gt;8 -->\r\n",
       "<g id=\"edge8\" class=\"edge\"><title>6&#45;&gt;8</title>\r\n",
       "<path fill=\"none\" stroke=\"black\" d=\"M339.136,-192.884C349.944,-183.62 361.803,-173.455 373.014,-163.845\"/>\r\n",
       "<polygon fill=\"black\" stroke=\"black\" points=\"375.336,-166.465 380.651,-157.299 370.78,-161.15 375.336,-166.465\"/>\r\n",
       "</g>\r\n",
       "<!-- 9 -->\r\n",
       "<g id=\"node10\" class=\"node\"><title>9</title>\r\n",
       "<path fill=\"#e58139\" stroke=\"black\" d=\"M394,-53C394,-53 321,-53 321,-53 315,-53 309,-47 309,-41 309,-41 309,-12 309,-12 309,-6 315,-0 321,-0 321,-0 394,-0 394,-0 400,-0 406,-6 406,-12 406,-12 406,-41 406,-41 406,-47 400,-53 394,-53\"/>\r\n",
       "<text text-anchor=\"middle\" x=\"357.5\" y=\"-37.8\" font-family=\"Helvetica,sans-Serif\" font-size=\"14.00\">gini = 0.0</text>\r\n",
       "<text text-anchor=\"middle\" x=\"357.5\" y=\"-22.8\" font-family=\"Helvetica,sans-Serif\" font-size=\"14.00\">samples = 7</text>\r\n",
       "<text text-anchor=\"middle\" x=\"357.5\" y=\"-7.8\" font-family=\"Helvetica,sans-Serif\" font-size=\"14.00\">value = [7, 0]</text>\r\n",
       "</g>\r\n",
       "<!-- 8&#45;&gt;9 -->\r\n",
       "<g id=\"edge9\" class=\"edge\"><title>8&#45;&gt;9</title>\r\n",
       "<path fill=\"none\" stroke=\"black\" d=\"M397.815,-88.9485C392.054,-80.1664 385.819,-70.6629 380.014,-61.815\"/>\r\n",
       "<polygon fill=\"black\" stroke=\"black\" points=\"382.797,-59.6779 374.385,-53.2367 376.945,-63.5178 382.797,-59.6779\"/>\r\n",
       "</g>\r\n",
       "<!-- 10 -->\r\n",
       "<g id=\"node11\" class=\"node\"><title>10</title>\r\n",
       "<path fill=\"#e58139\" fill-opacity=\"0.078431\" stroke=\"black\" d=\"M525,-53C525,-53 436,-53 436,-53 430,-53 424,-47 424,-41 424,-41 424,-12 424,-12 424,-6 430,-0 436,-0 436,-0 525,-0 525,-0 531,-0 537,-6 537,-12 537,-12 537,-41 537,-41 537,-47 531,-53 525,-53\"/>\r\n",
       "<text text-anchor=\"middle\" x=\"480.5\" y=\"-37.8\" font-family=\"Helvetica,sans-Serif\" font-size=\"14.00\">gini = 0.4991</text>\r\n",
       "<text text-anchor=\"middle\" x=\"480.5\" y=\"-22.8\" font-family=\"Helvetica,sans-Serif\" font-size=\"14.00\">samples = 48</text>\r\n",
       "<text text-anchor=\"middle\" x=\"480.5\" y=\"-7.8\" font-family=\"Helvetica,sans-Serif\" font-size=\"14.00\">value = [25, 23]</text>\r\n",
       "</g>\r\n",
       "<!-- 8&#45;&gt;10 -->\r\n",
       "<g id=\"edge10\" class=\"edge\"><title>8&#45;&gt;10</title>\r\n",
       "<path fill=\"none\" stroke=\"black\" d=\"M440.835,-88.9485C446.504,-80.1664 452.638,-70.6629 458.35,-61.815\"/>\r\n",
       "<polygon fill=\"black\" stroke=\"black\" points=\"461.404,-63.5365 463.887,-53.2367 455.523,-59.7402 461.404,-63.5365\"/>\r\n",
       "</g>\r\n",
       "</g>\r\n",
       "</svg>\r\n"
      ],
      "text/plain": [
       "<graphviz.files.Source at 0x167a55e5550>"
      ]
     },
     "execution_count": 14,
     "metadata": {},
     "output_type": "execute_result"
    }
   ],
   "source": [
    "random.seed(1)\n",
    "clf = tree.DecisionTreeClassifier(max_depth=3)\n",
    "clf = clf.fit( train_x,train_y )\n",
    "pridict_d_1 = clf.predict(test_x)\n",
    "pridict_d_2 = clf.predict(train_x)\n",
    "accuracy_train_3 = metrics.accuracy_score(train_y, pridict_d_2)\n",
    "accuracy_test_3 = metrics.accuracy_score(test_y, pridict_d_1)\n",
    "print(\"The Accuracy  on Train is \",accuracy_train_3)\n",
    "print(\"The Accuracy  on Test is \",accuracy_test_3)\n",
    "print(\"The Accuracy  on Train is \",metrics.accuracy_score(train_y, pridict_d_2))\n",
    "print(\"The Accuracy  on Test is \",metrics.accuracy_score(test_y, pridict_d_1))\n",
    "dot_data = tree.export_graphviz(clf,feature_names=cols,filled=True, rounded=True,out_file=None) \n",
    "graph = graphviz.Source(dot_data) \n",
    "graph"
   ]
  },
  {
   "cell_type": "markdown",
   "metadata": {},
   "source": [
    "## Training a decision tree classifier with depth = 4"
   ]
  },
  {
   "cell_type": "code",
   "execution_count": 15,
   "metadata": {},
   "outputs": [
    {
     "name": "stdout",
     "output_type": "stream",
     "text": [
      "The Accuracy  on Train is  0.819672131148\n",
      "The Accuracy  on Test is  0.540983606557\n"
     ]
    }
   ],
   "source": [
    "random.seed(1)\n",
    "clf = tree.DecisionTreeClassifier(max_depth=4)\n",
    "clf = clf.fit( train_x,train_y )\n",
    "pridict_d_1 = clf.predict(test_x)\n",
    "pridict_d_2 = clf.predict(train_x)\n",
    "accuracy_train_4 = metrics.accuracy_score(train_y, pridict_d_2)\n",
    "accuracy_test_4 = metrics.accuracy_score(test_y, pridict_d_1)\n",
    "print(\"The Accuracy  on Train is \",accuracy_train_4)\n",
    "print(\"The Accuracy  on Test is \",accuracy_test_4)"
   ]
  },
  {
   "cell_type": "markdown",
   "metadata": {},
   "source": [
    "## Training a decision tree classifier with depth = 5"
   ]
  },
  {
   "cell_type": "code",
   "execution_count": 16,
   "metadata": {},
   "outputs": [
    {
     "name": "stdout",
     "output_type": "stream",
     "text": [
      "The Accuracy  on Train is  0.852459016393\n",
      "The Accuracy  on Test is  0.754098360656\n"
     ]
    }
   ],
   "source": [
    "random.seed(1)\n",
    "clf = tree.DecisionTreeClassifier(max_depth=5)\n",
    "clf = clf.fit( train_x,train_y )\n",
    "pridict_d_1 = clf.predict(test_x)\n",
    "pridict_d_2 = clf.predict(train_x)\n",
    "accuracy_train_5 = metrics.accuracy_score(train_y, pridict_d_2)\n",
    "accuracy_test_5 = metrics.accuracy_score(test_y, pridict_d_1)\n",
    "print(\"The Accuracy  on Train is \",accuracy_train_5)\n",
    "print(\"The Accuracy  on Test is \",accuracy_test_5)"
   ]
  },
  {
   "cell_type": "markdown",
   "metadata": {},
   "source": [
    "## Training a decision tree classifier with depth = 6"
   ]
  },
  {
   "cell_type": "code",
   "execution_count": 17,
   "metadata": {},
   "outputs": [
    {
     "name": "stdout",
     "output_type": "stream",
     "text": [
      "The Accuracy  on Train is  0.877049180328\n",
      "The Accuracy  on Test is  0.754098360656\n"
     ]
    }
   ],
   "source": [
    "random.seed(1)\n",
    "clf = tree.DecisionTreeClassifier(max_depth=6)\n",
    "clf = clf.fit( train_x,train_y )\n",
    "pridict_d_1 = clf.predict(test_x)\n",
    "pridict_d_2 = clf.predict(train_x)\n",
    "accuracy_train_6 = metrics.accuracy_score(train_y, pridict_d_2)\n",
    "accuracy_test_6 = metrics.accuracy_score(test_y, pridict_d_1)\n",
    "print(\"The Accuracy  on Train is \",accuracy_train_6)\n",
    "print(\"The Accuracy  on Test is \",accuracy_test_6)"
   ]
  },
  {
   "cell_type": "code",
   "execution_count": 24,
   "metadata": {},
   "outputs": [
    {
     "name": "stdout",
     "output_type": "stream",
     "text": [
      "Tree Depth\n",
      "----------\n",
      "         1\n",
      "         2\n",
      "         3\n",
      "         4\n",
      "         5\n"
     ]
    }
   ],
   "source": [
    "t = Table()\n",
    "t['Tree Depth'] = range(1,6)\n",
    "t['Train Accuracy'] = Column([2.0, 5.0], unit='cm', description='Velocity')\n",
    "t['Test Accuracy'] = ['x', 'y']\n",
    "print(t)"
   ]
  },
  {
   "cell_type": "markdown",
   "metadata": {},
   "source": [
    "# Analysis and Discussion \n",
    "\n",
    "* *How does the tree change from one depth to another?*\n",
    "* *Do the trees make sense to you?*\n",
    "* *How does the performance on the train set change as a function of depth?* \n",
    "* *How does the performance on the test set change as a function of depth?*\n",
    "* *Any other observation you'd like to add?*"
   ]
  }
 ],
 "metadata": {
  "kernelspec": {
   "display_name": "Python 3",
   "language": "python",
   "name": "python3"
  },
  "language_info": {
   "codemirror_mode": {
    "name": "ipython",
    "version": 3
   },
   "file_extension": ".py",
   "mimetype": "text/x-python",
   "name": "python",
   "nbconvert_exporter": "python",
   "pygments_lexer": "ipython3",
   "version": "3.6.1"
  }
 },
 "nbformat": 4,
 "nbformat_minor": 2
}
