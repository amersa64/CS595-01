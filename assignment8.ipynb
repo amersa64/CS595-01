{
 "cells": [
  {
   "cell_type": "code",
   "execution_count": 3,
   "metadata": {
    "collapsed": true
   },
   "outputs": [],
   "source": [
    "from sklearn import tree\n",
    "import random\n",
    "import pandas as pd\n",
    "from sklearn.model_selection import train_test_split\n",
    "from sklearn.naive_bayes import BernoulliNB\n",
    "import numpy as np\n",
    "from sklearn import metrics"
   ]
  },
  {
   "cell_type": "code",
   "execution_count": 10,
   "metadata": {
    "collapsed": true
   },
   "outputs": [],
   "source": [
    "data = pd.read_csv('train.csv', index_col='PassengerId')\n",
    "test = pd.read_csv('test.csv', index_col='PassengerId')\n",
    "result = pd.concat([data['Age'],test['Age']])\n",
    "age_Mean = np.mean(result)"
   ]
  },
  {
   "cell_type": "code",
   "execution_count": 12,
   "metadata": {
    "collapsed": true
   },
   "outputs": [],
   "source": [
    "data = pd.read_csv('train.csv', index_col='PassengerId')\n",
    "#dropping columns that have confusing features\n",
    "data.drop(['Name', 'Ticket'], axis = 1, inplace = True)\n",
    "# chaning the Cabin feature to a binary feature of having or not having a cabin\n",
    "data['hasCabin'] = data['Cabin'].apply(lambda x:0 if type(x) == float else 1)\n",
    "data.drop(['Cabin'], axis = 1, inplace=True)\n",
    "# binarizing the sex feature\n",
    "data['Sex'] = data['Sex'].map({'female':0, 'male':1}).astype(int)\n",
    "#binarizing the Pclass feature to 1 if 1st class and 0 if 2nd or 3rd class\n",
    "data['Pclass'] = data['Pclass'].map({1:1, 2:0 , 3:0}).astype(int)\n",
    "#binarzing the Age features into adults and senior\n",
    "data['Age'] = data['Age'].apply(lambda x: 0 if x<np.mean(data['Age']) else 1)\n",
    "#binarizing the Embarked feature to 1 if S 0 otherwise\n",
    "data['Embarked'] = data['Embarked'].fillna('S')\n",
    "data['EmbarkedS'] = data['Embarked'].map({'S':1, 'C':0, 'Q':0}).astype(int)\n",
    "data.drop(['Embarked'], axis = 1, inplace=True)\n",
    "#binaring the Fare feature to 0 if less than mean and 1 if greater than\n",
    "data['Fare'] = data['Fare'].apply(lambda x: 0 if x< 31.00 else 1)\n",
    "# binarizing the Parch and SibSp feature to one feature if isAlone or not\n",
    "data['FamilySize'] = data['SibSp'] + data['Parch']+1\n",
    "data['isAlone'] = data['FamilySize'].apply(lambda x: 1 if x==1 else 0)\n",
    "data.drop(['FamilySize', 'Parch', 'SibSp'], inplace = True, axis = 1)"
   ]
  },
  {
   "cell_type": "code",
   "execution_count": 13,
   "metadata": {
    "collapsed": true
   },
   "outputs": [],
   "source": [
    "train_x, test_x, train_y, test_y =train_test_split(data.drop('Survived', axis = 1),data['Survived'], test_size = 0.33, random_state= 42)"
   ]
  },
  {
   "cell_type": "code",
   "execution_count": 56,
   "metadata": {},
   "outputs": [
    {
     "data": {
      "text/plain": [
       "BernoulliNB(alpha=1.0, binarize=0.0, class_prior=None, fit_prior=True)"
      ]
     },
     "execution_count": 56,
     "metadata": {},
     "output_type": "execute_result"
    }
   ],
   "source": [
    "clf = BernoulliNB()\n",
    "clf.fit(train_x, train_y)"
   ]
  },
  {
   "cell_type": "code",
   "execution_count": 64,
   "metadata": {},
   "outputs": [
    {
     "name": "stdout",
     "output_type": "stream",
     "text": [
      "[0.148936170212766, 0.8457446808510638, 0.5851063829787236, 0.18882978723404253, 0.12765957446808512, 0.7898936170212767, 0.6675531914893613]\n",
      "[0.36160714285714307, 0.3303571428571431, 0.5357142857142858, 0.36607142857142877, 0.3928571428571431, 0.6383928571428571, 0.4955357142857143]\n"
     ]
    }
   ],
   "source": [
    "import math\n",
    "print([math.exp(x)for x in clf.feature_log_prob_[0]])\n",
    "print([math.exp(x)for x in clf.feature_log_prob_[1]])"
   ]
  },
  {
   "cell_type": "code",
   "execution_count": 15,
   "metadata": {
    "collapsed": true
   },
   "outputs": [],
   "source": [
    "predict_train_x = clf.predict(train_x)\n",
    "predict_test_x = clf.predict(test_x)\n",
    "accurary_train = metrics.accuracy_score(predict_train_x, train_y)\n",
    "accuracy_test = metrics.accuracy_score(predict_test_x, test_y)"
   ]
  },
  {
   "cell_type": "code",
   "execution_count": 16,
   "metadata": {},
   "outputs": [
    {
     "name": "stdout",
     "output_type": "stream",
     "text": [
      "train accurary is  0.743288590604\n",
      "test accurary is  0.769491525424\n"
     ]
    }
   ],
   "source": [
    "print(\"train accurary is \", accurary_train)\n",
    "print(\"test accurary is \", accuracy_test)"
   ]
  },
  {
   "cell_type": "code",
   "execution_count": 45,
   "metadata": {},
   "outputs": [
    {
     "name": "stdout",
     "output_type": "stream",
     "text": [
      "[0, 1, 2, 7, 11, 13, 14, 18, 20, 21, 23, 24, 25, 26, 27, 28, 29, 30, 31, 32, 33, 34, 35, 39, 40, 41, 42, 43, 45, 46, 47, 48, 52, 54, 56, 58, 60, 63, 64, 66, 67, 68, 74, 75, 78, 80, 83, 85, 88, 89, 90, 93, 94, 95, 97, 99, 100, 101, 103, 104, 105, 108, 111, 113, 115, 117, 120, 123, 124, 125, 129, 131, 132, 133, 137, 138, 140, 142, 143, 146, 147, 149, 150, 151, 152, 154, 155, 156, 160, 161, 162, 164, 166, 168, 169, 172, 174, 175, 177, 179, 180, 181, 182, 185, 186, 187, 189, 190, 191, 192, 193, 197, 200, 201, 203, 204, 206, 208, 209, 211, 213, 215, 219, 220, 221, 222, 223, 224, 226, 229, 230, 232, 234, 235, 237, 239, 240, 242, 243, 244, 245, 246, 247, 248, 249, 250, 251, 252, 253, 254, 255, 256, 258, 262, 263, 264, 265, 266, 267, 269, 271, 272, 275, 276, 277, 279, 280, 281, 283, 284, 285, 287, 288, 289, 290, 291, 294]\n",
      "[3, 4, 5, 6, 8, 9, 10, 12, 15, 16, 17, 19, 22, 36, 37, 38, 44, 49, 50, 51, 53, 55, 57, 59, 61, 62, 65, 69, 70, 71, 72, 73, 76, 77, 79, 81, 82, 84, 86, 87, 91, 92, 96, 98, 102, 106, 107, 109, 110, 112, 114, 116, 118, 119, 121, 122, 126, 127, 128, 130, 134, 135, 136, 139, 141, 144, 145, 148, 153, 157, 158, 159, 163, 165, 167, 170, 171, 173, 176, 178, 183, 184, 188, 194, 195, 196, 198, 199, 202, 205, 207, 210, 212, 214, 216, 217, 218, 225, 227, 228, 231, 233, 236, 238, 241, 257, 259, 260, 261, 268, 270, 273, 274, 278, 282, 286, 292, 293]\n"
     ]
    }
   ],
   "source": [
    "predicted_prob = clf.predict_proba(test_x)\n",
    "yesClass = []\n",
    "noClass = []\n",
    "for i in range(0,len(predicted_prob)):\n",
    "    if(predicted_prob[i][0]>predicted_prob[i][1]):\n",
    "        yesClass.append(i)\n",
    "    else:\n",
    "        noClass.append(i)\n",
    "print(yesClass)\n",
    "print(noClass)"
   ]
  },
  {
   "cell_type": "code",
   "execution_count": 53,
   "metadata": {},
   "outputs": [
    {
     "name": "stdout",
     "output_type": "stream",
     "text": [
      "370.515464138\n",
      "-200.058556653\n"
     ]
    }
   ],
   "source": [
    "predicted_log = clf.predict_log_proba(test_x)\n",
    "total_log_evidence_yes = 0\n",
    "for i in yesClass:\n",
    "    total_log_evidence_yes+=predicted_log[i][0]-predicted_log[i][1]\n",
    "total_log_evidence_no = 0\n",
    "for i in noClass:\n",
    "    total_log_evidence_no+=predicted_log[i][0]-predicted_log[i][1]\n",
    "print(total_log_evidence_yes)\n",
    "print(total_log_evidence_no)"
   ]
  },
  {
   "cell_type": "code",
   "execution_count": null,
   "metadata": {
    "collapsed": true
   },
   "outputs": [],
   "source": []
  }
 ],
 "metadata": {
  "kernelspec": {
   "display_name": "Python 3",
   "language": "python",
   "name": "python3"
  },
  "language_info": {
   "codemirror_mode": {
    "name": "ipython",
    "version": 3
   },
   "file_extension": ".py",
   "mimetype": "text/x-python",
   "name": "python",
   "nbconvert_exporter": "python",
   "pygments_lexer": "ipython3",
   "version": "3.6.1"
  }
 },
 "nbformat": 4,
 "nbformat_minor": 2
}
