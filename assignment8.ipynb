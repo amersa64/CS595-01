{
 "cells": [
  {
   "cell_type": "markdown",
   "metadata": {},
   "source": [
    "# Titianic Dataset Description\n",
    "The sinking of the RMS Titanic is one of the most infamous shipwrecks in history.  On April 15, 1912, during her maiden voyage, the Titanic sank after colliding with an iceberg, killing 1502 out of 2224 passengers and crew. This sensational tragedy shocked the international community and led to better safety regulations for ships.\n",
    "\n",
    "One of the reasons that the shipwreck led to such loss of life was that there were not enough lifeboats for the passengers and crew. Although there was some element of luck involved in surviving the sinking, some groups of people were more likely to survive than others, such as women, children, and the upper-class.\n",
    "\n",
    "Number of Objects = 1309 \n",
    "Number of Features = 10\n",
    "train and test Split is 1/3 by 2/3\n",
    "\n",
    "### Variable Definition\tKey\n",
    "* Survived\tSurvival\t0 = No, 1 = Yes\n",
    "* pclass\tTicket class\t1 = 1st, 2 = 2nd, 3 = 3rd\n",
    "* sex\tgender\t\n",
    "* Age\tAge in years\t\n",
    "* sibsp \t# of siblings / spouses aboard the Titanic\t\n",
    "* parch\t  # of parents / children aboard the Titanic\t\n",
    "* ticket\tTicket number\t\n",
    "* fare\tPassenger fare\t\n",
    "* cabin\tCabin number\t\n",
    "* embarked\tPort of Embarkation\tC = Cherbourg, Q = Queenstown, S = Southampton\n",
    "\n",
    "### Variable Notes\n",
    "\n",
    "pclass: A proxy for socio-economic status (SES)\n",
    "1st = Upper\n",
    "2nd = Middle\n",
    "3rd = Lower\n",
    "\n",
    "age: Age is fractional if less than 1. If the age is estimated, is it in the form of xx.5\n",
    "\n",
    "sibsp: The dataset defines family relations in this way...\n",
    "Sibling = brother, sister, stepbrother, stepsister\n",
    "Spouse = husband, wife (mistresses and fiancés were ignored)\n",
    "\n",
    "parch: The dataset defines family relations in this way...\n",
    "Parent = mother, father\n",
    "Child = daughter, son, stepdaughter, stepson\n",
    "Some children travelled only with a nanny, therefore parch=0 for them."
   ]
  },
  {
   "cell_type": "code",
   "execution_count": 125,
   "metadata": {
    "collapsed": true
   },
   "outputs": [],
   "source": [
    "from sklearn import tree\n",
    "import random\n",
    "import pandas as pd\n",
    "from sklearn.model_selection import train_test_split\n",
    "from sklearn.naive_bayes import BernoulliNB\n",
    "import numpy as np\n",
    "from sklearn import metrics"
   ]
  },
  {
   "cell_type": "markdown",
   "metadata": {},
   "source": [
    "# Load Dataset"
   ]
  },
  {
   "cell_type": "code",
   "execution_count": 126,
   "metadata": {},
   "outputs": [],
   "source": [
    "data = pd.read_csv('train.csv', index_col='PassengerId')"
   ]
  },
  {
   "cell_type": "markdown",
   "metadata": {},
   "source": [
    "# Binarize features "
   ]
  },
  {
   "cell_type": "code",
   "execution_count": 127,
   "metadata": {
    "collapsed": true
   },
   "outputs": [],
   "source": [
    "#dropping columns that have confusing features\n",
    "data.drop(['Name', 'Ticket'], axis = 1, inplace = True)\n",
    "# chaning the Cabin feature to a binary feature of having or not having a cabin\n",
    "data['hasCabin'] = data['Cabin'].apply(lambda x:0 if type(x) == float else 1)\n",
    "data.drop(['Cabin'], axis = 1, inplace=True)\n",
    "# binarizing the sex feature\n",
    "data['Sex'] = data['Sex'].map({'female':0, 'male':1}).astype(int)\n",
    "#binarizing the Pclass feature to 1 if 1st class and 0 if 2nd or 3rd class\n",
    "data['Pclass'] = data['Pclass'].map({1:1, 2:0 , 3:0}).astype(int)\n",
    "#binarzing the Age features to be 0 if less than mean or 1 greater than mean\n",
    "data['Age'] = data['Age'].apply(lambda x: 0 if x<np.mean(data['Age']) else 1)\n",
    "#binarizing the Embarked feature to 1 if S 0 otherwise\n",
    "data['Embarked'] = data['Embarked'].fillna('S')\n",
    "data['EmbarkedS'] = data['Embarked'].map({'S':1, 'C':0, 'Q':0}).astype(int)\n",
    "data.drop(['Embarked'], axis = 1, inplace=True)\n",
    "#binaring the Fare feature to 0 if less than mean and 1 if greater than\n",
    "data['Fare'] = data['Fare'].apply(lambda x: 0 if x< np.mean(data['Fare']) else 1)\n",
    "# binarizing the Parch and SibSp feature to one feature if isAlone or not\n",
    "data['FamilySize'] = data['SibSp'] + data['Parch']+1\n",
    "data['isAlone'] = data['FamilySize'].apply(lambda x: 1 if x==1 else 0)\n",
    "data.drop(['FamilySize', 'Parch', 'SibSp'], inplace = True, axis = 1)"
   ]
  },
  {
   "cell_type": "code",
   "execution_count": 128,
   "metadata": {
    "collapsed": true
   },
   "outputs": [],
   "source": [
    "# spliting the data into training and testing\n",
    "train_x, test_x, train_y, test_y =train_test_split(data.drop('Survived', axis = 1),data['Survived'], test_size = 0.33, random_state= 42)"
   ]
  },
  {
   "cell_type": "markdown",
   "metadata": {},
   "source": [
    "# Training BernoulliNB classifier"
   ]
  },
  {
   "cell_type": "code",
   "execution_count": 129,
   "metadata": {},
   "outputs": [
    {
     "data": {
      "text/plain": [
       "BernoulliNB(alpha=1.0, binarize=0.0, class_prior=None, fit_prior=True)"
      ]
     },
     "execution_count": 129,
     "metadata": {},
     "output_type": "execute_result"
    }
   ],
   "source": [
    "clf = BernoulliNB()\n",
    "clf.fit(train_x, train_y)"
   ]
  },
  {
   "cell_type": "code",
   "execution_count": 130,
   "metadata": {},
   "outputs": [
    {
     "name": "stdout",
     "output_type": "stream",
     "text": [
      "train accurary is  0.743288590604\n",
      "test accurary is  0.769491525424\n"
     ]
    }
   ],
   "source": [
    "print(\"train accurary is \", clf.score(train_x,train_y))\n",
    "print(\"test accurary is \", clf.score(test_x,test_y))"
   ]
  },
  {
   "cell_type": "markdown",
   "metadata": {},
   "source": [
    "# Section 5:"
   ]
  },
  {
   "cell_type": "code",
   "execution_count": 131,
   "metadata": {
    "collapsed": true
   },
   "outputs": [],
   "source": [
    "# spliting the data into yes and No instances\n",
    "predicted_prob = clf.predict_proba(test_x)\n",
    "yesClass = []\n",
    "noClass = []\n",
    "for i in range(0,len(predicted_prob)):\n",
    "    if(predicted_prob[i][0]>predicted_prob[i][1]):\n",
    "        yesClass.append(i)\n",
    "    else:\n",
    "        noClass.append(i)"
   ]
  },
  {
   "cell_type": "code",
   "execution_count": 132,
   "metadata": {},
   "outputs": [],
   "source": [
    "predicted_log = clf.predict_log_proba(test_x)\n",
    "total_log_evidence_yes = 0\n",
    "for i in yesClass:\n",
    "    total_log_evidence_yes+=predicted_log[i][0]-predicted_log[i][1]\n",
    "total_log_evidence_no = 0\n",
    "for i in noClass:\n",
    "    total_log_evidence_no+=predicted_log[i][0]-predicted_log[i][1]"
   ]
  },
  {
   "cell_type": "markdown",
   "metadata": {},
   "source": [
    "## a) total positive log-evidence"
   ]
  },
  {
   "cell_type": "code",
   "execution_count": 133,
   "metadata": {},
   "outputs": [
    {
     "name": "stdout",
     "output_type": "stream",
     "text": [
      "370.9353012\n"
     ]
    }
   ],
   "source": [
    "print(total_log_evidence_yes)"
   ]
  },
  {
   "cell_type": "markdown",
   "metadata": {},
   "source": [
    "## b) total negative log-evidence"
   ]
  },
  {
   "cell_type": "code",
   "execution_count": 134,
   "metadata": {},
   "outputs": [
    {
     "name": "stdout",
     "output_type": "stream",
     "text": [
      "-198.104707962\n"
     ]
    }
   ],
   "source": [
    "print(total_log_evidence_no)"
   ]
  },
  {
   "cell_type": "markdown",
   "metadata": {},
   "source": [
    "## c) NOT SURE ABOUT THIS ASK IN CLASS"
   ]
  },
  {
   "cell_type": "code",
   "execution_count": 135,
   "metadata": {
    "collapsed": true
   },
   "outputs": [],
   "source": [
    "prob_yes = len(blah.loc[blah['Survived']==1])/len(test_x)\n",
    "prob_no = 1- prob_yes\n",
    "prob_log_class = np.log(prob_yes/prob_no)\n",
    "total_log_evidence_no+= prob_log_class"
   ]
  },
  {
   "cell_type": "code",
   "execution_count": 136,
   "metadata": {},
   "outputs": [
    {
     "name": "stdout",
     "output_type": "stream",
     "text": [
      "('Pclass', (3.2666666666666657, 0.622222222222222))\n",
      "('Sex', (0.347682119205298, 5.104166666666666))\n",
      "('Age', (0.957924836601307, 1.0587899543378996))\n",
      "('Fare', (3.2638888888888884, 0.6912878787878787))\n",
      "('hasCabin', (3.4027777777777777, 0.6723484848484848))\n",
      "('EmbarkedS', (0.8571882951653942, 1.4251893939393938))\n",
      "('isAlone', (0.6233198924731183, 1.915849673202614))\n",
      "[0.347682119205298, 0.622222222222222, 0.6233198924731183, 0.6723484848484848, 0.6912878787878787, 0.8571882951653942, 0.957924836601307, 1.0587899543378996, 1.4251893939393938, 1.915849673202614, 3.2638888888888884, 3.2666666666666657, 3.4027777777777777, 5.104166666666666]\n"
     ]
    }
   ],
   "source": [
    "d = {}\n",
    "blah = pd.DataFrame(test_x,columns=data.drop('Survived', axis=1).columns)\n",
    "blah['Survived']= test_y\n",
    "for name in train_x.columns:\n",
    "    feature_1_yes=0\n",
    "    feature_0_yes=0\n",
    "    feature_1_no=0\n",
    "    feature_0_no=0\n",
    "    for row in blah.iterrows():\n",
    "        if(row[1]['Survived']==1 and row[1][name]==1):\n",
    "            feature_1_yes+=1\n",
    "        if(row[1]['Survived']==1 and row[1][name]==0):\n",
    "            feature_0_yes+=1\n",
    "        if(row[1]['Survived']==0 and row[1][name]==1):\n",
    "            feature_1_no+=1\n",
    "        if(row[1]['Survived']==0 and row[1][name]==0):\n",
    "            feature_0_no+=1\n",
    "    #class\n",
    "    feature_yes_1 = feature_1_yes/prob_yes/len(test_x)\n",
    "    feature_yes_0 = feature_0_yes/prob_yes/len(test_x)\n",
    "    feature_no_1 = feature_1_no/prob_no/len(test_x)\n",
    "    feature_no_0= feature_0_no/prob_no/len(test_x)\n",
    "    d[name]=(feature_yes_1/feature_no_1,feature_yes_0/feature_no_0)\n",
    "for i in d.items():\n",
    "    print(i)\n",
    "myList=[]\n",
    "otherList = []\n",
    "for i in d.values():\n",
    "    myList.append(i[0])\n",
    "    otherList.append(i[1])\n",
    "print(sorted(myList+otherList))"
   ]
  },
  {
   "cell_type": "markdown",
   "metadata": {},
   "source": [
    "## d) top 3 features values that contribute most to the positive evidence"
   ]
  },
  {
   "cell_type": "code",
   "execution_count": 137,
   "metadata": {},
   "outputs": [
    {
     "name": "stdout",
     "output_type": "stream",
     "text": [
      "Sex = 0\n",
      "hasCabin = 1\n",
      "Pclass = 1\n"
     ]
    }
   ],
   "source": [
    "print(\"Sex = 0\")\n",
    "print(\"hasCabin = 1\")\n",
    "print(\"Pclass = 1\")"
   ]
  },
  {
   "cell_type": "markdown",
   "metadata": {},
   "source": [
    "## e) top 3 features values that contribute most to the negative evidence"
   ]
  },
  {
   "cell_type": "code",
   "execution_count": 138,
   "metadata": {},
   "outputs": [
    {
     "name": "stdout",
     "output_type": "stream",
     "text": [
      "Sex = 1\n",
      "Pclass = 0\n",
      "isAlone = 1\n"
     ]
    }
   ],
   "source": [
    "print(\"Sex = 1\")\n",
    "print(\"Pclass = 0\")\n",
    "print(\"isAlone = 1\")"
   ]
  },
  {
   "cell_type": "markdown",
   "metadata": {},
   "source": [
    "### 1.The most positive with respect to the probabilities."
   ]
  },
  {
   "cell_type": "code",
   "execution_count": 139,
   "metadata": {},
   "outputs": [
    {
     "name": "stdout",
     "output_type": "stream",
     "text": [
      "Pclass       0\n",
      "Sex          1\n",
      "Age          1\n",
      "Fare         0\n",
      "hasCabin     0\n",
      "EmbarkedS    1\n",
      "isAlone      1\n",
      "Name: 440, dtype: int64\n"
     ]
    }
   ],
   "source": [
    "index = np.where(predicted_prob[:,0]==np.max(predicted_prob[:,0]))\n",
    "print(test_x.iloc[index[0][0],])"
   ]
  },
  {
   "cell_type": "markdown",
   "metadata": {},
   "source": [
    "### 2.The most negative object with respect to the probabilities."
   ]
  },
  {
   "cell_type": "code",
   "execution_count": 140,
   "metadata": {},
   "outputs": [
    {
     "name": "stdout",
     "output_type": "stream",
     "text": [
      "Pclass       1\n",
      "Sex          0\n",
      "Age          0\n",
      "Fare         1\n",
      "hasCabin     1\n",
      "EmbarkedS    0\n",
      "isAlone      0\n",
      "Name: 312, dtype: int64\n"
     ]
    }
   ],
   "source": [
    "index = np.where(predicted_prob[:,1]==np.max(predicted_prob[:,1]))\n",
    "print(test_x.iloc[index[0][0],])"
   ]
  },
  {
   "cell_type": "markdown",
   "metadata": {},
   "source": [
    "### 3. The object that has the largest positive evidence."
   ]
  },
  {
   "cell_type": "code",
   "execution_count": 141,
   "metadata": {},
   "outputs": [
    {
     "name": "stdout",
     "output_type": "stream",
     "text": [
      "Pclass       0\n",
      "Sex          1\n",
      "Age          1\n",
      "Fare         0\n",
      "hasCabin     0\n",
      "EmbarkedS    1\n",
      "isAlone      1\n",
      "Name: 440, dtype: int64\n"
     ]
    }
   ],
   "source": [
    "index = np.where((predicted_prob[:,0]/predicted_prob[:,1])==np.max(predicted_prob[:,0]/predicted_prob[:,1]))\n",
    "print(test_x.iloc[index[0][0],])"
   ]
  },
  {
   "cell_type": "markdown",
   "metadata": {},
   "source": [
    "### 4. The object that has the largest (in magnitude) negative evidence."
   ]
  },
  {
   "cell_type": "code",
   "execution_count": 142,
   "metadata": {},
   "outputs": [
    {
     "name": "stdout",
     "output_type": "stream",
     "text": [
      "Pclass       1\n",
      "Sex          0\n",
      "Age          0\n",
      "Fare         1\n",
      "hasCabin     1\n",
      "EmbarkedS    0\n",
      "isAlone      0\n",
      "Name: 312, dtype: int64\n"
     ]
    }
   ],
   "source": [
    "index = np.where((predicted_prob[:,0]/predicted_prob[:,1])==np.min(predicted_prob[:,0]/predicted_prob[:,1]))\n",
    "print(test_x.iloc[index[0][0],])"
   ]
  },
  {
   "cell_type": "markdown",
   "metadata": {},
   "source": [
    "### 5. The most uncertain object (the probabilities are closest to 0.5)"
   ]
  },
  {
   "cell_type": "code",
   "execution_count": 143,
   "metadata": {},
   "outputs": [
    {
     "name": "stdout",
     "output_type": "stream",
     "text": [
      "Pclass       1\n",
      "Sex          1\n",
      "Age          1\n",
      "Fare         1\n",
      "hasCabin     0\n",
      "EmbarkedS    0\n",
      "isAlone      1\n",
      "Name: 494, dtype: int64\n"
     ]
    }
   ],
   "source": [
    "clearPRE = np.abs(np.add(predicted_prob[:,1],-0.5))\n",
    "index = np.where(clearPRE==np.min(clearPRE))\n",
    "print(test_x.iloc[index[0][0],])"
   ]
  },
  {
   "cell_type": "code",
   "execution_count": 7,
   "metadata": {},
   "outputs": [
    {
     "name": "stdout",
     "output_type": "stream",
     "text": [
      "[0.148936170212766, 0.8457446808510638, 0.5851063829787236, 0.18882978723404253, 0.12765957446808512, 0.7898936170212767, 0.6675531914893613]\n",
      "[0.36160714285714307, 0.3303571428571431, 0.5357142857142858, 0.36607142857142877, 0.3928571428571431, 0.6383928571428571, 0.4955357142857143]\n"
     ]
    }
   ],
   "source": [
    "import math\n",
    "print([math.exp(x)for x in clf.feature_log_prob_[0]])\n",
    "print([math.exp(x)for x in clf.feature_log_prob_[1]])"
   ]
  }
 ],
 "metadata": {
  "kernelspec": {
   "display_name": "Python 3",
   "language": "python",
   "name": "python3"
  },
  "language_info": {
   "codemirror_mode": {
    "name": "ipython",
    "version": 3
   },
   "file_extension": ".py",
   "mimetype": "text/x-python",
   "name": "python",
   "nbconvert_exporter": "python",
   "pygments_lexer": "ipython3",
   "version": "3.6.1"
  }
 },
 "nbformat": 4,
 "nbformat_minor": 2
}
